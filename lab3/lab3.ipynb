{
 "cells": [
  {
   "cell_type": "code",
   "execution_count": 3,
   "metadata": {},
   "outputs": [],
   "source": [
    "import numpy as np\n",
    "from lab3_proto import *\n",
    "#from proto2 import *\n",
    "from lab3_proto import *\n",
    "from lab3_tools import *\n",
    "from lab2_proto import *\n",
    "from lab2_tools import *\n",
    "from lab1_proto import *\n",
    "from lab1_tools import *\n",
    "from IPython.display import Audio,Image\n",
    "from scipy.signal import lfilter\n",
    "from prondict import *\n",
    "\n"
   ]
  },
  {
   "cell_type": "markdown",
   "metadata": {},
   "source": [
    "first time setup: download tidigits to this folder using this link: https://drive.google.com/file/d/1UgY60Uek1OznD7VGRFyOiF_eqwSVvhM3/view?usp=sharing"
   ]
  },
  {
   "cell_type": "code",
   "execution_count": 2,
   "metadata": {},
   "outputs": [
    {
     "data": {
      "text/plain": [
       "('woman', 'ac', 'z849768', 'a')"
      ]
     },
     "execution_count": 2,
     "metadata": {},
     "output_type": "execute_result"
    }
   ],
   "source": [
    "path2info('tidigits/disc_4.1.1/tidigits/train/woman/ac/z849768a.wav') #'tidigits/disc_4.1.1/tidigits/train/man/ae/z9z6531a.wav')"
   ]
  },
  {
   "cell_type": "code",
   "execution_count": 3,
   "metadata": {},
   "outputs": [
    {
     "data": {
      "text/plain": [
       "('man', 'ae', 'z9z6531', 'a')"
      ]
     },
     "execution_count": 3,
     "metadata": {},
     "output_type": "execute_result"
    }
   ],
   "source": [
    "path2info('tidigits\\\\disc_4.1.1\\\\tidigits\\\\train\\\\man\\\\ae\\\\z9z6531a.wav')"
   ]
  },
  {
   "cell_type": "code",
   "execution_count": 4,
   "metadata": {},
   "outputs": [
    {
     "data": {
      "text/plain": [
       "(array([ 8, 10, 10, ..., 14, 14, 10], dtype=int16), 20000)"
      ]
     },
     "execution_count": 4,
     "metadata": {},
     "output_type": "execute_result"
    }
   ],
   "source": [
    "import soundfile as sf\n",
    "loadAudio(\"C:\\\\Users\\\\A\\\\Desktop\\\\KTH\\\\dt2119_speech_recpgmotopm\\\\Speech-and-speaker-recognition\\\\lab3\\\\tidigits\\\\tidigits\\\\disc_4.1.1\\\\tidigits\\\\train\\\\man\\\\ae\\\\1a.wav\")"
   ]
  },
  {
   "cell_type": "code",
   "execution_count": 5,
   "metadata": {},
   "outputs": [],
   "source": [
    "from pathlib import Path\n",
    "base_path = Path(\"C:\\\\Users\\\\A\\\\Desktop\\\\KTH\\\\dt2119_speech_recpgmotopm\\\\Speech-and-speaker-recognition\\\\lab3\\\\tidigits\\\\\")\n",
    "filename = 'tidigits/disc_4.1.1/tidigits/train/man/nw/z43a.wav'\n",
    "filepath = base_path / Path(filename)\n",
    "samples, samplingrate = loadAudio(filepath)"
   ]
  },
  {
   "cell_type": "code",
   "execution_count": 6,
   "metadata": {},
   "outputs": [
    {
     "data": {
      "text/plain": [
       "['ah_0',\n",
       " 'ah_1',\n",
       " 'ah_2',\n",
       " 'ao_0',\n",
       " 'ao_1',\n",
       " 'ao_2',\n",
       " 'ay_0',\n",
       " 'ay_1',\n",
       " 'ay_2',\n",
       " 'eh_0',\n",
       " 'eh_1',\n",
       " 'eh_2',\n",
       " 'ey_0',\n",
       " 'ey_1',\n",
       " 'ey_2',\n",
       " 'f_0',\n",
       " 'f_1',\n",
       " 'f_2',\n",
       " 'ih_0',\n",
       " 'ih_1',\n",
       " 'ih_2',\n",
       " 'iy_0',\n",
       " 'iy_1',\n",
       " 'iy_2',\n",
       " 'k_0',\n",
       " 'k_1',\n",
       " 'k_2',\n",
       " 'n_0',\n",
       " 'n_1',\n",
       " 'n_2',\n",
       " 'ow_0',\n",
       " 'ow_1',\n",
       " 'ow_2',\n",
       " 'r_0',\n",
       " 'r_1',\n",
       " 'r_2',\n",
       " 's_0',\n",
       " 's_1',\n",
       " 's_2',\n",
       " 'sil_0',\n",
       " 'sil_1',\n",
       " 'sil_2',\n",
       " 'sp_0',\n",
       " 't_0',\n",
       " 't_1',\n",
       " 't_2',\n",
       " 'th_0',\n",
       " 'th_1',\n",
       " 'th_2',\n",
       " 'uw_0',\n",
       " 'uw_1',\n",
       " 'uw_2',\n",
       " 'v_0',\n",
       " 'v_1',\n",
       " 'v_2',\n",
       " 'w_0',\n",
       " 'w_1',\n",
       " 'w_2',\n",
       " 'z_0',\n",
       " 'z_1',\n",
       " 'z_2']"
      ]
     },
     "execution_count": 6,
     "metadata": {},
     "output_type": "execute_result"
    }
   ],
   "source": [
    "phoneHMMs = np.load('lab2_models_all.npz',allow_pickle=True)['phoneHMMs'].item()\n",
    "phones = sorted(phoneHMMs.keys())\n",
    "nstates = {phone: phoneHMMs[phone]['means'].shape[0] for phone in phones}\n",
    "stateList = [ph + '_' + str(id) for ph in phones for id in range(nstates[ph])]\n",
    "stateList\n"
   ]
  },
  {
   "cell_type": "code",
   "execution_count": 7,
   "metadata": {},
   "outputs": [
    {
     "data": {
      "text/plain": [
       "8"
      ]
     },
     "execution_count": 7,
     "metadata": {},
     "output_type": "execute_result"
    }
   ],
   "source": [
    "stateList.index('ay_2')"
   ]
  },
  {
   "cell_type": "markdown",
   "metadata": {},
   "source": [
    "## 4.2"
   ]
  },
  {
   "cell_type": "code",
   "execution_count": 8,
   "metadata": {},
   "outputs": [],
   "source": [
    "filename = 'tidigits/disc_4.1.1/tidigits/train/man/nw/z43a.wav'\n",
    "samples, samplingrate = loadAudio(base_path / Path(filename))\n",
    "\n",
    "lmfcc = mfcc(samples)"
   ]
  },
  {
   "cell_type": "code",
   "execution_count": 9,
   "metadata": {},
   "outputs": [],
   "source": [
    "example = np.load(\"lab3_example.npz\",allow_pickle=True)['example'].item()"
   ]
  },
  {
   "cell_type": "code",
   "execution_count": 10,
   "metadata": {},
   "outputs": [],
   "source": [
    "filename = 'tidigits/disc_4.1.1/tidigits/train/man/nw/z43a.wav'\n",
    "samples, samplingrate = loadAudio(base_path / Path(filename))\n",
    "lmfcc = mfcc(samples)\n",
    "wordTrans = list(path2info(filename)[2])\n",
    "phoneTrans = words2phones(wordTrans,prondict)\n",
    "utteranceHMM = concatHMMs(phoneHMMs,phoneTrans)"
   ]
  },
  {
   "cell_type": "code",
   "execution_count": 11,
   "metadata": {},
   "outputs": [],
   "source": [
    "stateTrans = [phone + '_' + str(stateid) for phone in phoneTrans \n",
    "              for stateid in range(nstates[phone])]"
   ]
  },
  {
   "cell_type": "code",
   "execution_count": 12,
   "metadata": {},
   "outputs": [
    {
     "data": {
      "text/plain": [
       "'r_1'"
      ]
     },
     "execution_count": 12,
     "metadata": {},
     "output_type": "execute_result"
    }
   ],
   "source": [
    "stateTrans[10]"
   ]
  },
  {
   "cell_type": "code",
   "execution_count": 28,
   "metadata": {},
   "outputs": [
    {
     "name": "stderr",
     "output_type": "stream",
     "text": [
      "C:\\Users\\A\\AppData\\Local\\Temp\\ipykernel_9260\\1985007783.py:6: RuntimeWarning: divide by zero encountered in log\n",
      "  score,path=viterbi(log_likelihoods,np.log(Hmm[\"startprob\"]),np.log(Hmm[\"transmat\"]),False)\n"
     ]
    },
    {
     "data": {
      "text/plain": [
       "['sil_0',\n",
       " 'sil_1',\n",
       " 'sil_1',\n",
       " 'sil_1',\n",
       " 'sil_1',\n",
       " 'sil_1',\n",
       " 'sil_1',\n",
       " 'sil_1',\n",
       " 'sil_1',\n",
       " 'sil_1',\n",
       " 'sil_1',\n",
       " 'sil_1',\n",
       " 'sil_1',\n",
       " 'sil_1',\n",
       " 'sil_1',\n",
       " 'sil_1',\n",
       " 'sil_1',\n",
       " 'sil_1',\n",
       " 'sil_1',\n",
       " 'sil_2',\n",
       " 'z_0',\n",
       " 'z_0',\n",
       " 'z_0',\n",
       " 'z_0',\n",
       " 'z_1',\n",
       " 'z_2',\n",
       " 'z_2',\n",
       " 'z_2',\n",
       " 'z_2',\n",
       " 'z_2',\n",
       " 'z_2',\n",
       " 'z_2',\n",
       " 'z_2',\n",
       " 'z_2',\n",
       " 'z_2',\n",
       " 'z_2',\n",
       " 'iy_0',\n",
       " 'iy_0',\n",
       " 'iy_0',\n",
       " 'iy_0',\n",
       " 'iy_0',\n",
       " 'iy_0',\n",
       " 'iy_0',\n",
       " 'iy_0',\n",
       " 'iy_1',\n",
       " 'iy_2',\n",
       " 'r_0',\n",
       " 'r_0',\n",
       " 'r_0',\n",
       " 'r_0',\n",
       " 'r_0',\n",
       " 'r_0',\n",
       " 'r_0',\n",
       " 'r_0',\n",
       " 'r_0',\n",
       " 'r_0',\n",
       " 'r_1',\n",
       " 'r_2',\n",
       " 'ow_0',\n",
       " 'ow_1',\n",
       " 'ow_2',\n",
       " 'ow_2',\n",
       " 'ow_2',\n",
       " 'ow_2',\n",
       " 'ow_2',\n",
       " 'ow_2',\n",
       " 'ow_2',\n",
       " 'ow_2',\n",
       " 'ow_2',\n",
       " 'f_0',\n",
       " 'f_1',\n",
       " 'f_1',\n",
       " 'f_1',\n",
       " 'f_1',\n",
       " 'f_1',\n",
       " 'f_1',\n",
       " 'f_1',\n",
       " 'f_1',\n",
       " 'f_1',\n",
       " 'f_1',\n",
       " 'f_1',\n",
       " 'f_2',\n",
       " 'ao_0',\n",
       " 'ao_1',\n",
       " 'ao_1',\n",
       " 'ao_1',\n",
       " 'ao_1',\n",
       " 'ao_1',\n",
       " 'ao_1',\n",
       " 'ao_1',\n",
       " 'ao_1',\n",
       " 'ao_1',\n",
       " 'ao_1',\n",
       " 'ao_1',\n",
       " 'ao_1',\n",
       " 'ao_1',\n",
       " 'ao_1',\n",
       " 'ao_2',\n",
       " 'ao_2',\n",
       " 'ao_2',\n",
       " 'ao_2',\n",
       " 'ao_2',\n",
       " 'ao_2',\n",
       " 'ao_2',\n",
       " 'ao_2',\n",
       " 'ao_2',\n",
       " 'ao_2',\n",
       " 'ao_2',\n",
       " 'r_0',\n",
       " 'r_0',\n",
       " 'r_0',\n",
       " 'r_1',\n",
       " 'r_2',\n",
       " 'th_0',\n",
       " 'th_0',\n",
       " 'th_0',\n",
       " 'th_0',\n",
       " 'th_0',\n",
       " 'th_0',\n",
       " 'th_0',\n",
       " 'th_0',\n",
       " 'th_0',\n",
       " 'th_0',\n",
       " 'th_1',\n",
       " 'th_1',\n",
       " 'th_1',\n",
       " 'th_2',\n",
       " 'r_0',\n",
       " 'r_0',\n",
       " 'r_0',\n",
       " 'r_0',\n",
       " 'r_0',\n",
       " 'r_0',\n",
       " 'r_0',\n",
       " 'r_0',\n",
       " 'r_0',\n",
       " 'r_1',\n",
       " 'r_2',\n",
       " 'iy_0',\n",
       " 'iy_0',\n",
       " 'iy_0',\n",
       " 'iy_0',\n",
       " 'iy_0',\n",
       " 'iy_0',\n",
       " 'iy_0',\n",
       " 'iy_0',\n",
       " 'iy_0',\n",
       " 'iy_0',\n",
       " 'iy_1',\n",
       " 'iy_1',\n",
       " 'iy_2',\n",
       " 'iy_2',\n",
       " 'iy_2',\n",
       " 'iy_2',\n",
       " 'iy_2',\n",
       " 'iy_2',\n",
       " 'iy_2',\n",
       " 'iy_2',\n",
       " 'sil_0',\n",
       " 'sil_0',\n",
       " 'sil_0',\n",
       " 'sil_0',\n",
       " 'sil_0',\n",
       " 'sil_0',\n",
       " 'sil_0',\n",
       " 'sil_0',\n",
       " 'sil_0',\n",
       " 'sil_0',\n",
       " 'sil_0',\n",
       " 'sil_0',\n",
       " 'sil_0',\n",
       " 'sil_0',\n",
       " 'sil_0',\n",
       " 'sil_0',\n",
       " 'sil_0',\n",
       " 'sil_0',\n",
       " 'sil_1',\n",
       " 'sil_2']"
      ]
     },
     "execution_count": 28,
     "metadata": {},
     "output_type": "execute_result"
    }
   ],
   "source": [
    "#align the states in the utteranceHMM model to the sequence of feature vectors in lmfcc\n",
    "\n",
    "X0 = lmfcc\n",
    "Hmm = utteranceHMM\n",
    "log_likelihoods=log_multivariate_normal_density_diag(X0,Hmm[\"means\"],Hmm[\"covars\"])\n",
    "score,path=viterbi(log_likelihoods,np.log(Hmm[\"startprob\"]),np.log(Hmm[\"transmat\"]),False)\n",
    "state_seq = []\n",
    "for i in range(len(path)):\n",
    "    state_seq.append(stateTrans[path[i]])\n",
    "state_seq"
   ]
  },
  {
   "cell_type": "code",
   "execution_count": 47,
   "metadata": {},
   "outputs": [
    {
     "data": {
      "text/plain": [
       "array([ 0,  1,  1,  1,  1,  1,  1,  1,  1,  1,  1,  1,  1,  1,  1,  1,  1,\n",
       "        1,  1,  2,  3,  3,  3,  3,  4,  5,  5,  5,  5,  5,  5,  5,  5,  5,\n",
       "        5,  5,  6,  6,  6,  6,  6,  6,  6,  6,  7,  8,  9,  9,  9,  9,  9,\n",
       "        9,  9,  9,  9,  9, 10, 11, 12, 13, 14, 14, 14, 14, 14, 14, 14, 14,\n",
       "       14, 16, 17, 17, 17, 17, 17, 17, 17, 17, 17, 17, 17, 18, 19, 20, 20,\n",
       "       20, 20, 20, 20, 20, 20, 20, 20, 20, 20, 20, 20, 21, 21, 21, 21, 21,\n",
       "       21, 21, 21, 21, 21, 21, 22, 22, 22, 23, 24, 26, 26, 26, 26, 26, 26,\n",
       "       26, 26, 26, 26, 27, 27, 27, 28, 29, 29, 29, 29, 29, 29, 29, 29, 29,\n",
       "       30, 31, 32, 32, 32, 32, 32, 32, 32, 32, 32, 32, 33, 33, 34, 34, 34,\n",
       "       34, 34, 34, 34, 34, 36, 36, 36, 36, 36, 36, 36, 36, 36, 36, 36, 36,\n",
       "       36, 36, 36, 36, 36, 36, 37, 38], dtype=int64)"
      ]
     },
     "execution_count": 47,
     "metadata": {},
     "output_type": "execute_result"
    }
   ],
   "source": [
    "path"
   ]
  },
  {
   "cell_type": "code",
   "execution_count": 29,
   "metadata": {},
   "outputs": [
    {
     "data": {
      "text/plain": [
       "'0 0.01 sil_0\\n0.01 0.19000000000000003 sil_1\\n0.19000000000000003 0.20000000000000004 sil_2\\n0.20000000000000004 0.24000000000000007 z_0\\n0.24000000000000007 0.25000000000000006 z_1\\n0.25000000000000006 0.36000000000000015 z_2\\n0.36000000000000015 0.4400000000000002 iy_0\\n0.4400000000000002 0.45000000000000023 iy_1\\n0.45000000000000023 0.46000000000000024 iy_2\\n0.46000000000000024 0.5600000000000003 r_0\\n0.5600000000000003 0.5700000000000003 r_1\\n0.5700000000000003 0.5800000000000003 r_2\\n0.5800000000000003 0.5900000000000003 ow_0\\n0.5900000000000003 0.6000000000000003 ow_1\\n0.6000000000000003 0.6900000000000004 ow_2\\n0.6900000000000004 0.7000000000000004 f_0\\n0.7000000000000004 0.8100000000000005 f_1\\n0.8100000000000005 0.8200000000000005 f_2\\n0.8200000000000005 0.8300000000000005 ao_0\\n0.8300000000000005 0.9700000000000006 ao_1\\n0.9700000000000006 1.0800000000000007 ao_2\\n1.0800000000000007 1.1100000000000008 r_0\\n1.1100000000000008 1.1200000000000008 r_1\\n1.1200000000000008 1.1300000000000008 r_2\\n1.1300000000000008 1.2300000000000009 th_0\\n1.2300000000000009 1.260000000000001 th_1\\n1.260000000000001 1.270000000000001 th_2\\n1.270000000000001 1.360000000000001 r_0\\n1.360000000000001 1.370000000000001 r_1\\n1.370000000000001 1.380000000000001 r_2\\n1.380000000000001 1.480000000000001 iy_0\\n1.480000000000001 1.500000000000001 iy_1\\n1.500000000000001 1.5800000000000012 iy_2\\n1.5800000000000012 1.7600000000000013 sil_0\\n1.7600000000000013 1.7700000000000014 sil_1\\n1.7700000000000014 1.7800000000000014 sil_2\\n'"
      ]
     },
     "execution_count": 29,
     "metadata": {},
     "output_type": "execute_result"
    }
   ],
   "source": [
    "#take state_seq and create a transcription file based on it\n",
    "#[sil_0,sil_1,sil_1,z_0,z_1,z_2...] -> \"z\" at 40 ms\n",
    "frames2trans(state_seq, outfilename='z43a.lab')"
   ]
  },
  {
   "cell_type": "markdown",
   "metadata": {},
   "source": [
    "the alignment is mostly good but some parts bleed in to each other e.g. \"r\" in four"
   ]
  },
  {
   "cell_type": "markdown",
   "metadata": {},
   "source": [
    "## 4.3"
   ]
  },
  {
   "cell_type": "code",
   "execution_count": 35,
   "metadata": {},
   "outputs": [
    {
     "data": {
      "text/plain": [
       "0"
      ]
     },
     "execution_count": 35,
     "metadata": {},
     "output_type": "execute_result"
    }
   ],
   "source": [
    "stateList.index(\"ah_0\") "
   ]
  },
  {
   "cell_type": "code",
   "execution_count": 52,
   "metadata": {},
   "outputs": [
    {
     "name": "stderr",
     "output_type": "stream",
     "text": [
      "C:\\Users\\A\\AppData\\Local\\Temp\\ipykernel_9260\\599603072.py:17: RuntimeWarning: divide by zero encountered in log\n",
      "  score,path=viterbi(log_likelihoods,np.log(Hmm[\"startprob\"]),np.log(Hmm[\"transmat\"]),False)\n"
     ]
    }
   ],
   "source": [
    "import os\n",
    "traindata = []\n",
    "for root, dirs, files in os.walk(base_path / 'tidigits/disc_4.1.1/tidigits/train'):\n",
    "    for file in files:\n",
    "        if file.endswith('.wav'):\n",
    "            filename = os.path.join(root, file)\n",
    "            samples, samplingrate = loadAudio(filename)\n",
    "            \n",
    "            lmfcc = mfcc(samples)\n",
    "            wordTrans = list(path2info(filename)[2])\n",
    "            #phoneHMM har vi redan\n",
    "            phoneTrans = words2phones(wordTrans,prondict)\n",
    "            utteranceHMM = concatHMMs(phoneHMMs,phoneTrans)\n",
    "            stateTrans = [phone + '_' + str(stateid) for phone in phoneTrans \n",
    "                            for stateid in range(nstates[phone])]\n",
    "            Hmm = utteranceHMM\n",
    "            log_likelihoods=log_multivariate_normal_density_diag(lmfcc,Hmm[\"means\"],Hmm[\"covars\"])\n",
    "            score,path=viterbi(log_likelihoods,np.log(Hmm[\"startprob\"]),np.log(Hmm[\"transmat\"]),False)\n",
    "            \n",
    "            state_seq = []\n",
    "            for i in range(len(path)):\n",
    "                state_seq.append(stateTrans[path[i]])\n",
    "            \n",
    "\n",
    "            traindata.append({'filename': filename, 'lmfcc': lmfcc,\n",
    "                'mspec': 'mspec', 'targets': state_seq})"
   ]
  },
  {
   "cell_type": "code",
   "execution_count": null,
   "metadata": {},
   "outputs": [],
   "source": [
    "np.savez('traindata.npz', traindata=traindata)"
   ]
  },
  {
   "cell_type": "code",
   "execution_count": 54,
   "metadata": {},
   "outputs": [
    {
     "name": "stderr",
     "output_type": "stream",
     "text": [
      "C:\\Users\\A\\AppData\\Local\\Temp\\ipykernel_9260\\2522803322.py:17: RuntimeWarning: divide by zero encountered in log\n",
      "  score,path=viterbi(log_likelihoods,np.log(Hmm[\"startprob\"]),np.log(Hmm[\"transmat\"]),False)\n"
     ]
    }
   ],
   "source": [
    "import os\n",
    "testdata = []\n",
    "for root, dirs, files in os.walk(base_path / 'tidigits/disc_4.2.1/tidigits/test'):\n",
    "    for file in files:\n",
    "        if file.endswith('.wav'):\n",
    "            filename = os.path.join(root, file)\n",
    "            samples, samplingrate = loadAudio(filename)\n",
    "            \n",
    "            lmfcc = mfcc(samples)\n",
    "            wordTrans = list(path2info(filename)[2])\n",
    "            phoneTrans = words2phones(wordTrans,prondict)\n",
    "            utteranceHMM = concatHMMs(phoneHMMs,phoneTrans)\n",
    "            stateTrans = [phone + '_' + str(stateid) for phone in phoneTrans \n",
    "                            for stateid in range(nstates[phone])]\n",
    "            Hmm = utteranceHMM\n",
    "            log_likelihoods=log_multivariate_normal_density_diag(lmfcc,Hmm[\"means\"],Hmm[\"covars\"])\n",
    "            score,path=viterbi(log_likelihoods,np.log(Hmm[\"startprob\"]),np.log(Hmm[\"transmat\"]),False)\n",
    "            \n",
    "            state_seq = []\n",
    "            for i in range(len(path)):\n",
    "                state_seq.append(stateTrans[path[i]])\n",
    "            \n",
    "\n",
    "            testdata.append({'filename': filename, 'lmfcc': lmfcc,\n",
    "                'mspec': 'mspec', 'targets': state_seq})"
   ]
  },
  {
   "cell_type": "code",
   "execution_count": 4,
   "metadata": {},
   "outputs": [],
   "source": [
    "traindata = np.load(\"traindata.npz\",allow_pickle=True)['traindata']\n",
    "testdata = np.load(\"testndata.npz\",allow_pickle=True)['testdata']"
   ]
  },
  {
   "cell_type": "markdown",
   "metadata": {},
   "source": [
    "## 4.4"
   ]
  },
  {
   "cell_type": "code",
   "execution_count": 45,
   "metadata": {},
   "outputs": [
    {
     "data": {
      "text/plain": [
       "(4235, 4388)"
      ]
     },
     "execution_count": 45,
     "metadata": {},
     "output_type": "execute_result"
    }
   ],
   "source": [
    "males = []\n",
    "females = []\n",
    "for i in range(len(traindata)):\n",
    "    speaker_gender = path2info(traindata[i][\"filename\"])[0]\n",
    "    if speaker_gender == \"man\":\n",
    "        males.append(traindata[i])\n",
    "    else:\n",
    "        females.append(traindata[i])\n",
    "len(males),len(females)"
   ]
  },
  {
   "cell_type": "code",
   "execution_count": 71,
   "metadata": {},
   "outputs": [],
   "source": [
    "import random\n",
    "train_size_male = int(0.9 * len(males))\n",
    "train_size_female = int(0.9 * len(females))\n",
    "\n",
    "random.shuffle(males)\n",
    "random.shuffle(females)\n",
    "#extract the amount of males we need\n",
    "train_males = males[:train_size_male]\n",
    "val_males = males[train_size_male:]\n",
    "#females we need\n",
    "train_females = females[:train_size_female]\n",
    "val_females = females[train_size_female:]\n",
    "#merge them\n",
    "train_data = train_males + train_females\n",
    "val_data = val_males + val_females\n",
    "#shuffle again to avoid it being MMMM...FFFF... instead MFMFFMFM...\n",
    "random.shuffle(train_data)\n",
    "random.shuffle(val_data)"
   ]
  },
  {
   "cell_type": "code",
   "execution_count": 70,
   "metadata": {},
   "outputs": [
    {
     "name": "stdout",
     "output_type": "stream",
     "text": [
      "male to female ratio is 0.9650544441630793\n",
      "male to female ratio is 0.9658314350797267\n"
     ]
    }
   ],
   "source": [
    "#check gender ratio\n",
    "for k in [train_data,val_data]:\n",
    "    male = 0\n",
    "    female = 0\n",
    "    for i in range(len(k)):\n",
    "        speaker_gender = path2info(k[i][\"filename\"])[0]\n",
    "        if speaker_gender == \"man\":\n",
    "            male += 1\n",
    "        else:\n",
    "            female +=1\n",
    "    print(f\"male to female ratio is {male/female}\")"
   ]
  },
  {
   "cell_type": "code",
   "execution_count": 72,
   "metadata": {},
   "outputs": [],
   "source": [
    "traindata=train_data\n",
    "valdata=val_data"
   ]
  },
  {
   "cell_type": "markdown",
   "metadata": {},
   "source": [
    "## 4.5"
   ]
  },
  {
   "cell_type": "code",
   "execution_count": null,
   "metadata": {},
   "outputs": [],
   "source": [
    "def stack_data(dataset,n):\n",
    "    if n == 0:\n",
    "        part = [dataset[1][\"lmfcc\"],dataset[2][\"lmfcc\"],dataset[3][\"lmfcc\"]]\n",
    "        return part+[dataset[0][\"lmfcc\"]]+part\n",
    "    "
   ]
  },
  {
   "cell_type": "code",
   "execution_count": null,
   "metadata": {},
   "outputs": [],
   "source": [
    "for dataset in [traindata,testdata]:\n",
    "    for i in range(len(dataset)):\n",
    "        if i > 2 or i<len(dataset)-2:\n",
    "            traindata[i][\"lmfcc_stacked\"]=[traindata[i-3][\"lmfcc\"],traindata[i-2][\"lmfcc\"],traindata[i-1][\"lmfcc\"],traindata[i][\"lmfcc\"],traindata[i+1][\"lmfcc\"],traindata[i+2][\"lmfcc\"],traindata[i+3][\"lmfcc\"]]\n"
   ]
  },
  {
   "cell_type": "code",
   "execution_count": 91,
   "metadata": {},
   "outputs": [
    {
     "ename": "IndexError",
     "evalue": "list assignment index out of range",
     "output_type": "error",
     "traceback": [
      "\u001b[1;31m---------------------------------------------------------------------------\u001b[0m",
      "\u001b[1;31mIndexError\u001b[0m                                Traceback (most recent call last)",
      "Cell \u001b[1;32mIn[91], line 22\u001b[0m\n\u001b[0;32m     20\u001b[0m             idx \u001b[38;5;241m-\u001b[39m\u001b[38;5;241m=\u001b[39m \u001b[38;5;241m1\u001b[39m\n\u001b[0;32m     21\u001b[0m     \u001b[38;5;28;01mreturn\u001b[39;00m out\n\u001b[1;32m---> 22\u001b[0m \u001b[38;5;28mprint\u001b[39m(\u001b[43mstack\u001b[49m\u001b[43m(\u001b[49m\u001b[38;5;241;43m1\u001b[39;49m\u001b[43m)\u001b[49m)\n",
      "Cell \u001b[1;32mIn[91], line 8\u001b[0m, in \u001b[0;36mstack\u001b[1;34m(n)\u001b[0m\n\u001b[0;32m      6\u001b[0m idx \u001b[38;5;241m=\u001b[39m \u001b[38;5;241m3\u001b[39m\n\u001b[0;32m      7\u001b[0m \u001b[38;5;28;01mfor\u001b[39;00m i \u001b[38;5;129;01min\u001b[39;00m \u001b[38;5;28mrange\u001b[39m(n,n\u001b[38;5;241m+\u001b[39m\u001b[38;5;241m3\u001b[39m\u001b[38;5;241m+\u001b[39m\u001b[38;5;241m1\u001b[39m):\n\u001b[1;32m----> 8\u001b[0m     \u001b[43mout\u001b[49m\u001b[43m[\u001b[49m\u001b[43midx\u001b[49m\u001b[43m]\u001b[49m \u001b[38;5;241m=\u001b[39m i\n\u001b[0;32m      9\u001b[0m     idx \u001b[38;5;241m+\u001b[39m\u001b[38;5;241m=\u001b[39m\u001b[38;5;241m1\u001b[39m\n\u001b[0;32m     10\u001b[0m \u001b[38;5;66;03m#going to 0\u001b[39;00m\n",
      "\u001b[1;31mIndexError\u001b[0m: list assignment index out of range"
     ]
    }
   ],
   "source": [
    "def stack(n):\n",
    "    out = []\n",
    "    if n==0:\n",
    "        return \n",
    "    #going up\n",
    "    idx = 3\n",
    "    for i in range(n,n+3+1):\n",
    "        out[idx] = i\n",
    "        idx +=1\n",
    "    #going to 0\n",
    "    idx = 3\n",
    "    for i in range(n,0-1,-1):\n",
    "        out[idx] = i\n",
    "        idx -= 1\n",
    "    #padd with right numbers if there are elements left to fill\n",
    "    for i in range(n,n+3+1):\n",
    "        if idx >= 0:\n",
    "            #only fill the remaining numbers\n",
    "            out[idx] = i\n",
    "            idx -= 1\n",
    "    return out\n",
    "print(stack(1))"
   ]
  },
  {
   "cell_type": "code",
   "execution_count": null,
   "metadata": {},
   "outputs": [],
   "source": []
  },
  {
   "cell_type": "code",
   "execution_count": 86,
   "metadata": {},
   "outputs": [
    {
     "name": "stdout",
     "output_type": "stream",
     "text": [
      "2\n",
      "1\n",
      "0\n"
     ]
    }
   ],
   "source": [
    "for i in range(2,0-1,-1):\n",
    "    print(i)"
   ]
  },
  {
   "cell_type": "code",
   "execution_count": 79,
   "metadata": {},
   "outputs": [
    {
     "data": {
      "text/plain": [
       "[1, 2, 3, 0, 1, 2, 3]"
      ]
     },
     "execution_count": 79,
     "metadata": {},
     "output_type": "execute_result"
    }
   ],
   "source": [
    "x = [1,2,3]\n",
    "[i for i in x]+[0]+x"
   ]
  },
  {
   "cell_type": "code",
   "execution_count": 33,
   "metadata": {},
   "outputs": [
    {
     "data": {
      "text/plain": [
       "array([{'filename': 'C:\\\\Users\\\\A\\\\Desktop\\\\KTH\\\\dt2119_speech_recpgmotopm\\\\Speech-and-speaker-recognition\\\\lab3\\\\tidigits\\\\tidigits\\\\disc_4.1.1\\\\tidigits\\\\train\\\\man\\\\ae\\\\12a.wav', 'lmfcc': array([[  51.03965261, -107.15287091,  114.11458269, ...,  -73.10015822,\n",
       "                 50.58039858,  -36.09530103],\n",
       "              [  60.32031105, -107.86520517,   98.40574297, ...,   76.65768622,\n",
       "                 10.97692508,  133.88947693],\n",
       "              [  58.61648975, -123.37565047,   64.49824346, ...,  185.08800651,\n",
       "                114.63660418,   83.17336517],\n",
       "              ...,\n",
       "              [  26.88792317, -133.58516665,   34.67285175, ...,   11.29716144,\n",
       "                -51.78227528,  110.96357205],\n",
       "              [  22.60477002, -144.52713068,   42.57735044, ...,  -36.26984901,\n",
       "                 26.13240322,   45.93650137],\n",
       "              [  20.13271279, -187.50216688,  105.22151514, ...,   83.45252253,\n",
       "                -15.7431096 ,    7.85307321]]), 'mspec': 'mspec', 'targets': ['sil_0', 'sil_1', 'sil_1', 'sil_1', 'sil_1', 'sil_1', 'sil_1', 'sil_1', 'sil_1', 'sil_1', 'sil_1', 'sil_1', 'sil_1', 'sil_1', 'sil_1', 'sil_2', 'sil_2', 'sil_2', 'sil_2', 'sil_2', 'w_0', 'w_0', 'w_0', 'w_1', 'w_1', 'w_1', 'w_1', 'w_1', 'w_1', 'w_2', 'w_2', 'w_2', 'w_2', 'w_2', 'w_2', 'w_2', 'w_2', 'ah_0', 'ah_0', 'ah_1', 'ah_2', 'n_0', 'n_0', 'n_0', 'n_0', 'n_0', 'n_0', 'n_1', 'n_1', 'n_2', 'n_2', 'n_2', 't_0', 't_0', 't_0', 't_1', 't_1', 't_1', 't_2', 't_2', 't_2', 't_2', 'uw_0', 'uw_1', 'uw_1', 'uw_1', 'uw_1', 'uw_1', 'uw_1', 'uw_1', 'uw_1', 'uw_1', 'uw_1', 'uw_2', 'uw_2', 'uw_2', 'uw_2', 'uw_2', 'uw_2', 'uw_2', 'uw_2', 'uw_2', 'uw_2', 'uw_2', 'uw_2', 'uw_2', 'sil_0', 'sil_0', 'sil_0', 'sil_0', 'sil_0', 'sil_0', 'sil_0', 'sil_0', 'sil_0', 'sil_0', 'sil_1', 'sil_1', 'sil_1', 'sil_1', 'sil_1', 'sil_1', 'sil_1', 'sil_1', 'sil_1', 'sil_1', 'sil_1', 'sil_1', 'sil_1']},\n",
       "       {'filename': 'C:\\\\Users\\\\A\\\\Desktop\\\\KTH\\\\dt2119_speech_recpgmotopm\\\\Speech-and-speaker-recognition\\\\lab3\\\\tidigits\\\\tidigits\\\\disc_4.1.1\\\\tidigits\\\\train\\\\man\\\\ae\\\\161a.wav', 'lmfcc': array([[ 242.30698186,   36.97530536, -144.09109431, ...,   48.32228557,\n",
       "                -25.47636669, -178.84776859],\n",
       "              [ 235.61886364,   21.38860999, -141.18413325, ..., -244.95393087,\n",
       "                -40.99478606, -203.34422099],\n",
       "              [ 231.39190435,   83.88885932,  -44.12009744, ..., -143.88098842,\n",
       "                 91.07684411,    3.4577853 ],\n",
       "              ...,\n",
       "              [  72.05378047, -101.66147946,   97.32277253, ..., -126.40522775,\n",
       "                 49.09477958,   15.40874829],\n",
       "              [  42.11628877, -127.34603706,  117.63872433, ...,   74.89194459,\n",
       "                 38.06817505,  122.09642841],\n",
       "              [  63.78571077,  -51.68560123,  160.65314177, ...,   86.63886736,\n",
       "               -105.24160597,   14.1254822 ]]), 'mspec': 'mspec', 'targets': ['sil_0', 'sil_0', 'sil_0', 'sil_0', 'sil_0', 'sil_0', 'sil_0', 'sil_0', 'sil_1', 'sil_1', 'sil_1', 'sil_1', 'sil_1', 'sil_1', 'sil_2', 'sil_2', 'sil_2', 'sil_2', 'sil_2', 'sil_2', 'sil_2', 'sil_2', 'w_0', 'w_0', 'w_1', 'w_1', 'w_1', 'w_1', 'w_1', 'w_2', 'w_2', 'w_2', 'w_2', 'w_2', 'ah_0', 'ah_0', 'ah_0', 'ah_1', 'ah_2', 'n_0', 'n_0', 'n_0', 'n_0', 'n_0', 'n_1', 'n_2', 's_0', 's_1', 's_2', 'ih_0', 'ih_0', 'ih_0', 'ih_0', 'ih_0', 'ih_0', 'ih_0', 'ih_1', 'ih_2', 'ih_2', 'ih_2', 'ih_2', 'ih_2', 'ih_2', 'ih_2', 'ih_2', 'k_0', 'k_0', 'k_1', 'k_2', 'k_2', 'k_2', 'k_2', 'k_2', 'k_2', 's_0', 's_0', 's_0', 's_1', 's_2', 'w_0', 'w_0', 'w_0', 'w_1', 'w_1', 'w_1', 'w_1', 'w_1', 'w_1', 'w_1', 'w_1', 'w_1', 'w_2', 'w_2', 'w_2', 'w_2', 'w_2', 'w_2', 'w_2', 'w_2', 'ah_0', 'ah_0', 'ah_0', 'ah_0', 'ah_1', 'ah_2', 'n_0', 'n_0', 'n_0', 'n_0', 'n_0', 'n_0', 'n_1', 'n_2', 'n_2', 'n_2', 'sil_0', 'sil_0', 'sil_0', 'sil_0', 'sil_0', 'sil_0', 'sil_0', 'sil_0', 'sil_0', 'sil_0', 'sil_0', 'sil_0', 'sil_0', 'sil_1', 'sil_1', 'sil_1', 'sil_1', 'sil_1', 'sil_1', 'sil_1', 'sil_1', 'sil_1', 'sil_1', 'sil_1', 'sil_1', 'sil_1']},\n",
       "       {'filename': 'C:\\\\Users\\\\A\\\\Desktop\\\\KTH\\\\dt2119_speech_recpgmotopm\\\\Speech-and-speaker-recognition\\\\lab3\\\\tidigits\\\\tidigits\\\\disc_4.1.1\\\\tidigits\\\\train\\\\man\\\\ae\\\\18174a.wav', 'lmfcc': array([[ 172.16830479,   21.09478531,    1.28633383, ...,   -7.73016819,\n",
       "                115.88808494,  126.45761164],\n",
       "              [ 131.85475689,   28.77247735,   72.24759995, ...,   13.77847258,\n",
       "                 46.04396508,   30.10239828],\n",
       "              [ 127.60421252,  -26.99489056,   32.81756706, ..., -115.82876324,\n",
       "                -50.07243637,  107.02201685],\n",
       "              ...,\n",
       "              [ 145.7990057 ,  -11.93066334,   41.42258083, ..., -223.68871865,\n",
       "                -18.7495482 ,  110.12759612],\n",
       "              [ 163.25622941,   17.05502246,   76.38397342, ...,    3.11096091,\n",
       "                  6.4004665 ,  -15.75191734],\n",
       "              [ 127.51791593,  -30.72541951,   28.73198724, ...,   -4.5836828 ,\n",
       "                -25.33862707,    3.00786206]]), 'mspec': 'mspec', 'targets': ['sil_0', 'sil_0', 'sil_0', 'sil_0', 'sil_0', 'sil_0', 'sil_1', 'sil_1', 'sil_1', 'sil_1', 'sil_1', 'sil_1', 'sil_1', 'sil_1', 'sil_1', 'sil_1', 'sil_1', 'sil_1', 'sil_2', 'sil_2', 'w_0', 'w_0', 'w_0', 'w_1', 'w_1', 'w_1', 'w_1', 'w_1', 'w_1', 'w_1', 'w_2', 'w_2', 'w_2', 'w_2', 'w_2', 'ah_0', 'ah_1', 'ah_2', 'n_0', 'n_1', 'n_2', 'ey_0', 'ey_0', 'ey_0', 'ey_1', 'ey_1', 'ey_1', 'ey_1', 'ey_1', 'ey_1', 'ey_1', 'ey_1', 'ey_1', 'ey_1', 'ey_2', 't_0', 't_0', 't_1', 't_2', 'w_0', 'w_1', 'w_1', 'w_1', 'w_1', 'w_1', 'w_1', 'w_1', 'w_1', 'w_1', 'w_1', 'w_1', 'w_1', 'w_2', 'w_2', 'w_2', 'w_2', 'w_2', 'w_2', 'ah_0', 'ah_0', 'ah_0', 'ah_1', 'ah_2', 'n_0', 'n_0', 'n_0', 'n_0', 'n_0', 'n_0', 'n_1', 'n_2', 'n_2', 's_0', 's_0', 's_1', 's_2', 'eh_0', 'eh_0', 'eh_0', 'eh_0', 'eh_0', 'eh_0', 'eh_0', 'eh_1', 'eh_2', 'v_0', 'v_1', 'v_1', 'v_1', 'v_1', 'v_1', 'v_1', 'v_1', 'v_2', 'v_2', 'ah_0', 'ah_0', 'ah_1', 'ah_2', 'n_0', 'n_1', 'n_1', 'n_1', 'n_1', 'n_1', 'n_1', 'n_2', 'n_2', 'n_2', 'f_0', 'f_1', 'f_1', 'f_1', 'f_1', 'f_1', 'f_1', 'f_1', 'f_1', 'f_2', 'ao_0', 'ao_0', 'ao_0', 'ao_0', 'ao_0', 'ao_0', 'ao_0', 'ao_0', 'ao_0', 'ao_0', 'ao_0', 'ao_0', 'ao_0', 'ao_0', 'ao_0', 'ao_0', 'ao_1', 'ao_2', 'ao_2', 'ao_2', 'ao_2', 'ao_2', 'ao_2', 'ao_2', 'r_0', 'r_1', 'r_2', 'r_2', 'r_2', 'sil_0', 'sil_0', 'sil_0', 'sil_0', 'sil_0', 'sil_0', 'sil_0', 'sil_0', 'sil_0', 'sil_0', 'sil_0', 'sil_0', 'sil_0', 'sil_0', 'sil_0', 'sil_0', 'sil_0', 'sil_0', 'sil_0', 'sil_0', 'sil_0', 'sil_0', 'sil_0', 'sil_1', 'sil_2']},\n",
       "       ...,\n",
       "       {'filename': 'C:\\\\Users\\\\A\\\\Desktop\\\\KTH\\\\dt2119_speech_recpgmotopm\\\\Speech-and-speaker-recognition\\\\lab3\\\\tidigits\\\\tidigits\\\\disc_4.1.1\\\\tidigits\\\\train\\\\woman\\\\sp\\\\zb.wav', 'lmfcc': array([[  11.00879583, -150.32410837,  112.28262217, ...,  -10.06954398,\n",
       "                 78.85734483,  -22.83383843],\n",
       "              [  11.04110863, -168.79034144,   38.04597098, ...,  -62.75115132,\n",
       "                -12.66172584,   29.55131338],\n",
       "              [  -3.3471372 , -156.12275705,   64.48933055, ..., -123.79404659,\n",
       "                 26.04986481,  108.69560741],\n",
       "              ...,\n",
       "              [  30.83732262, -157.67957647,   61.25674581, ..., -126.34922638,\n",
       "                -94.0806659 ,   23.56822502],\n",
       "              [  -1.91456963, -191.20942924,   35.92301779, ..., -234.60338298,\n",
       "                -73.31622444,  -51.26597852],\n",
       "              [  26.91550752, -141.98895469,   46.65039098, ...,   -9.10696908,\n",
       "                -16.99317592,  116.32558255]]), 'mspec': 'mspec', 'targets': ['sil_0', 'sil_1', 'sil_1', 'sil_1', 'sil_1', 'sil_1', 'sil_1', 'sil_1', 'sil_1', 'sil_1', 'sil_1', 'sil_1', 'sil_1', 'sil_1', 'sil_1', 'sil_1', 'sil_1', 'sil_1', 'sil_1', 'sil_2', 'z_0', 'z_0', 'z_1', 'z_1', 'z_1', 'z_1', 'z_1', 'z_1', 'z_1', 'z_1', 'z_1', 'z_1', 'z_1', 'z_1', 'z_1', 'z_2', 'iy_0', 'iy_1', 'iy_1', 'iy_1', 'iy_1', 'iy_2', 'iy_2', 'r_0', 'r_1', 'r_1', 'r_1', 'r_1', 'r_1', 'r_1', 'r_1', 'r_1', 'r_1', 'r_1', 'r_2', 'ow_0', 'ow_0', 'ow_0', 'ow_0', 'ow_0', 'ow_0', 'ow_1', 'ow_1', 'ow_1', 'ow_1', 'ow_1', 'ow_2', 'ow_2', 'ow_2', 'sil_0', 'sil_0', 'sil_0', 'sil_0', 'sil_0', 'sil_0', 'sil_0', 'sil_0', 'sil_0', 'sil_0', 'sil_1', 'sil_1', 'sil_1', 'sil_1', 'sil_1', 'sil_1', 'sil_1', 'sil_1', 'sil_1', 'sil_1', 'sil_1', 'sil_1', 'sil_1', 'sil_1', 'sil_1', 'sil_1', 'sil_1']},\n",
       "       {'filename': 'C:\\\\Users\\\\A\\\\Desktop\\\\KTH\\\\dt2119_speech_recpgmotopm\\\\Speech-and-speaker-recognition\\\\lab3\\\\tidigits\\\\tidigits\\\\disc_4.1.1\\\\tidigits\\\\train\\\\woman\\\\sp\\\\zz1zz47a.wav', 'lmfcc': array([[   5.50118332, -164.72079527,   58.74694669, ...,   -3.25368568,\n",
       "                 42.61617714,   14.17585988],\n",
       "              [   6.41419553, -148.9721645 ,   75.67598513, ...,  -26.56314543,\n",
       "               -101.03613871,  170.09939031],\n",
       "              [   0.6384742 , -182.85377857,   78.38190538, ...,  -37.82377473,\n",
       "                -71.63757052,   11.40297145],\n",
       "              ...,\n",
       "              [   8.71410899, -135.24430245,   64.22066892, ...,   56.73041892,\n",
       "                  9.94618151,   93.70136187],\n",
       "              [   0.52294452, -173.81610084,   68.77565793, ...,    7.69534165,\n",
       "                 60.90032805,  131.62009003],\n",
       "              [   9.05550232, -156.17735952,   66.26538877, ...,  -38.3742205 ,\n",
       "                -53.13749763,  134.81659548]]), 'mspec': 'mspec', 'targets': ['sil_0', 'sil_1', 'sil_1', 'sil_1', 'sil_1', 'sil_1', 'sil_1', 'sil_1', 'sil_1', 'sil_1', 'sil_2', 'sil_2', 'sil_2', 'sil_2', 'sil_2', 'sil_2', 'sil_2', 'sil_2', 'sil_2', 'sil_2', 'sil_2', 'sil_2', 'sil_2', 'sil_2', 'sil_2', 'sil_2', 'sil_2', 'sil_2', 'sil_2', 'sil_2', 'sil_2', 'sil_2', 'sil_2', 'sil_2', 'sil_2', 'sil_2', 'sil_2', 'sil_2', 'sil_2', 'sil_2', 'sil_2', 'sil_2', 'sil_2', 'sil_2', 'sil_2', 'sil_2', 'sil_2', 'z_0', 'z_0', 'z_1', 'z_1', 'z_1', 'z_1', 'z_1', 'z_1', 'z_1', 'z_1', 'z_1', 'z_1', 'z_1', 'z_1', 'z_1', 'z_1', 'z_2', 'iy_0', 'iy_1', 'iy_1', 'iy_1', 'iy_2', 'r_0', 'r_1', 'r_1', 'r_1', 'r_1', 'r_1', 'r_1', 'r_1', 'r_1', 'r_1', 'r_1', 'r_1', 'r_1', 'r_2', 'ow_0', 'ow_0', 'ow_0', 'ow_0', 'ow_1', 'ow_1', 'ow_1', 'ow_1', 'ow_1', 'ow_1', 'ow_2', 'z_0', 'z_0', 'z_0', 'z_1', 'z_1', 'z_1', 'z_1', 'z_1', 'z_1', 'z_1', 'z_1', 'z_1', 'z_1', 'z_2', 'iy_0', 'iy_0', 'iy_0', 'iy_1', 'iy_2', 'iy_2', 'r_0', 'r_1', 'r_1', 'r_1', 'r_1', 'r_1', 'r_1', 'r_1', 'r_1', 'r_1', 'r_1', 'r_2', 'ow_0', 'ow_0', 'ow_1', 'ow_1', 'ow_1', 'ow_1', 'ow_2', 'ow_2', 'ow_2', 'ow_2', 'w_0', 'w_1', 'w_1', 'w_1', 'w_1', 'w_1', 'w_1', 'w_1', 'w_1', 'w_1', 'w_1', 'w_1', 'w_1', 'w_2', 'w_2', 'w_2', 'w_2', 'w_2', 'w_2', 'ah_0', 'ah_0', 'ah_0', 'ah_0', 'ah_0', 'ah_0', 'ah_0', 'ah_1', 'ah_1', 'ah_1', 'ah_1', 'ah_1', 'ah_1', 'ah_1', 'ah_1', 'ah_2', 'ah_2', 'n_0', 'n_1', 'n_1', 'n_1', 'n_1', 'n_1', 'n_1', 'n_1', 'n_1', 'n_1', 'n_1', 'n_2', 'z_0', 'z_1', 'z_1', 'z_1', 'z_1', 'z_1', 'z_1', 'z_1', 'z_1', 'z_2', 'iy_0', 'iy_1', 'iy_1', 'iy_1', 'iy_1', 'iy_1', 'iy_1', 'iy_2', 'iy_2', 'r_0', 'r_1', 'r_2', 'ow_0', 'ow_0', 'ow_0', 'ow_0', 'ow_0', 'ow_0', 'ow_0', 'ow_1', 'ow_1', 'ow_1', 'ow_1', 'ow_1', 'ow_1', 'ow_2', 'ow_2', 'ow_2', 'z_0', 'z_1', 'z_1', 'z_1', 'z_1', 'z_1', 'z_1', 'z_1', 'z_1', 'z_1', 'z_1', 'z_1', 'z_1', 'z_1', 'z_2', 'iy_0', 'iy_1', 'iy_1', 'iy_1', 'iy_1', 'iy_2', 'r_0', 'r_1', 'r_2', 'ow_0', 'ow_0', 'ow_0', 'ow_0', 'ow_0', 'ow_0', 'ow_0', 'ow_1', 'ow_1', 'ow_1', 'ow_1', 'ow_1', 'ow_1', 'ow_2', 'ow_2', 'ow_2', 'ow_2', 'ow_2', 'f_0', 'f_1', 'f_1', 'f_1', 'f_1', 'f_1', 'f_1', 'f_1', 'f_1', 'f_1', 'f_1', 'f_1', 'f_1', 'f_1', 'f_2', 'ao_0', 'ao_0', 'ao_0', 'ao_0', 'ao_0', 'ao_0', 'ao_1', 'ao_2', 'ao_2', 'ao_2', 'ao_2', 'ao_2', 'ao_2', 'r_0', 'r_1', 'r_2', 'r_2', 's_0', 's_0', 's_1', 's_1', 's_1', 's_1', 's_1', 's_1', 's_1', 's_1', 's_1', 's_1', 's_1', 's_2', 'eh_0', 'eh_1', 'eh_1', 'eh_1', 'eh_1', 'eh_2', 'v_0', 'v_0', 'v_0', 'v_0', 'v_0', 'v_0', 'v_0', 'v_0', 'v_0', 'v_1', 'v_2', 'v_2', 'v_2', 'v_2', 'v_2', 'ah_0', 'ah_1', 'ah_1', 'ah_1', 'ah_1', 'ah_2', 'n_0', 'n_1', 'n_1', 'n_1', 'n_1', 'n_1', 'n_1', 'n_1', 'n_1', 'n_1', 'n_2', 'sil_0', 'sil_0', 'sil_0', 'sil_1', 'sil_1', 'sil_1', 'sil_1', 'sil_1', 'sil_1', 'sil_1', 'sil_1', 'sil_1', 'sil_1', 'sil_1', 'sil_1', 'sil_1', 'sil_1', 'sil_1']},\n",
       "       {'filename': 'C:\\\\Users\\\\A\\\\Desktop\\\\KTH\\\\dt2119_speech_recpgmotopm\\\\Speech-and-speaker-recognition\\\\lab3\\\\tidigits\\\\tidigits\\\\disc_4.1.1\\\\tidigits\\\\train\\\\woman\\\\sp\\\\zzz7a.wav', 'lmfcc': array([[ 1.26455555e-01, -1.27409208e+02,  7.91439512e+01, ...,\n",
       "               -1.58059344e+01, -8.14837564e+01, -6.03598975e+01],\n",
       "              [ 7.52253822e+00, -1.70786771e+02,  6.45128047e+01, ...,\n",
       "                4.43326180e+01,  2.47708718e+01, -3.86693968e+01],\n",
       "              [-2.20481832e+00, -1.40506553e+02,  7.79228536e+01, ...,\n",
       "                1.44158894e+02, -4.18995055e+00, -8.73751138e+00],\n",
       "              ...,\n",
       "              [ 6.56918472e+01, -7.79214379e+01,  8.06498409e+01, ...,\n",
       "               -6.78146492e+01, -5.27532278e+01, -3.92928603e+01],\n",
       "              [ 6.40399928e+01, -8.25662807e+01,  5.81373725e+01, ...,\n",
       "               -9.87910209e+01, -1.57729156e+02, -7.83238282e-01],\n",
       "              [ 4.72679207e+01, -9.68016773e+01,  7.39652516e+01, ...,\n",
       "               -4.19710585e+01, -6.42958219e+01, -2.66331258e+01]]), 'mspec': 'mspec', 'targets': ['sil_0', 'sil_1', 'sil_1', 'sil_1', 'sil_1', 'sil_1', 'sil_1', 'sil_1', 'sil_1', 'sil_1', 'sil_1', 'sil_1', 'sil_1', 'sil_2', 'z_0', 'z_0', 'z_0', 'z_0', 'z_0', 'z_0', 'z_0', 'z_0', 'z_0', 'z_1', 'z_1', 'z_1', 'z_1', 'z_1', 'z_2', 'iy_0', 'iy_0', 'iy_0', 'iy_0', 'iy_0', 'iy_1', 'iy_2', 'r_0', 'r_1', 'r_1', 'r_1', 'r_1', 'r_1', 'r_1', 'r_1', 'r_1', 'r_1', 'r_1', 'r_1', 'r_2', 'ow_0', 'ow_0', 'ow_0', 'ow_0', 'ow_0', 'ow_0', 'ow_1', 'ow_1', 'ow_1', 'ow_1', 'ow_1', 'ow_2', 'ow_2', 'z_0', 'z_0', 'z_1', 'z_1', 'z_1', 'z_1', 'z_1', 'z_1', 'z_1', 'z_1', 'z_1', 'z_1', 'z_2', 'z_2', 'iy_0', 'iy_1', 'iy_1', 'iy_1', 'iy_2', 'iy_2', 'r_0', 'r_1', 'r_1', 'r_1', 'r_1', 'r_1', 'r_2', 'ow_0', 'ow_0', 'ow_0', 'ow_0', 'ow_0', 'ow_0', 'ow_0', 'ow_1', 'ow_1', 'ow_2', 'ow_2', 'ow_2', 'ow_2', 'ow_2', 'z_0', 'z_0', 'z_1', 'z_1', 'z_1', 'z_1', 'z_1', 'z_1', 'z_1', 'z_1', 'z_1', 'z_1', 'z_1', 'z_1', 'z_1', 'z_2', 'iy_0', 'iy_1', 'iy_1', 'iy_1', 'iy_2', 'iy_2', 'r_0', 'r_1', 'r_1', 'r_1', 'r_1', 'r_1', 'r_1', 'r_1', 'r_1', 'r_1', 'r_2', 'ow_0', 'ow_1', 'ow_1', 'ow_1', 'ow_1', 'ow_1', 'ow_1', 'ow_1', 'ow_2', 'ow_2', 's_0', 's_1', 's_1', 's_1', 's_1', 's_1', 's_1', 's_1', 's_1', 's_1', 's_1', 's_1', 's_1', 's_1', 's_2', 'eh_0', 'eh_1', 'eh_1', 'eh_2', 'v_0', 'v_0', 'v_0', 'v_0', 'v_0', 'v_0', 'v_0', 'v_0', 'v_1', 'v_2', 'v_2', 'v_2', 'v_2', 'v_2', 'v_2', 'v_2', 'ah_0', 'ah_1', 'ah_1', 'ah_1', 'ah_1', 'ah_1', 'ah_1', 'ah_2', 'n_0', 'n_1', 'n_1', 'n_1', 'n_1', 'n_1', 'n_1', 'n_1', 'n_1', 'n_1', 'n_2', 'sil_0', 'sil_0', 'sil_0', 'sil_0', 'sil_0', 'sil_0', 'sil_0', 'sil_0', 'sil_0', 'sil_0', 'sil_0', 'sil_1', 'sil_1', 'sil_1', 'sil_1', 'sil_1', 'sil_1']}],\n",
       "      dtype=object)"
      ]
     },
     "execution_count": 33,
     "metadata": {},
     "output_type": "execute_result"
    }
   ],
   "source": [
    "traindata"
   ]
  },
  {
   "cell_type": "code",
   "execution_count": 139,
   "metadata": {},
   "outputs": [
    {
     "data": {
      "text/plain": [
       "0"
      ]
     },
     "execution_count": 139,
     "metadata": {},
     "output_type": "execute_result"
    }
   ],
   "source": []
  },
  {
   "cell_type": "code",
   "execution_count": 55,
   "metadata": {},
   "outputs": [],
   "source": [
    "np.savez('testndata.npz', testdata=testdata)"
   ]
  }
 ],
 "metadata": {
  "kernelspec": {
   "display_name": "dt2119",
   "language": "python",
   "name": "python3"
  },
  "language_info": {
   "codemirror_mode": {
    "name": "ipython",
    "version": 3
   },
   "file_extension": ".py",
   "mimetype": "text/x-python",
   "name": "python",
   "nbconvert_exporter": "python",
   "pygments_lexer": "ipython3",
   "version": "3.10.4"
  }
 },
 "nbformat": 4,
 "nbformat_minor": 2
}
