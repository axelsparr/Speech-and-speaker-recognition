{
 "cells": [
  {
   "cell_type": "code",
   "execution_count": 1,
   "metadata": {},
   "outputs": [],
   "source": [
    "import numpy as np\n",
    "from lab3_proto import *\n",
    "#from proto2 import *\n",
    "from lab3_proto import *\n",
    "from lab3_tools import *\n",
    "from lab2_proto import *\n",
    "from lab2_tools import *\n",
    "from lab1_proto import *\n",
    "from lab1_tools import *\n",
    "from IPython.display import Audio,Image\n",
    "from scipy.signal import lfilter\n",
    "from prondict import *\n",
    "\n"
   ]
  },
  {
   "cell_type": "markdown",
   "metadata": {},
   "source": [
    "first time setup: download tidigits to this folder using this link: https://drive.google.com/file/d/1UgY60Uek1OznD7VGRFyOiF_eqwSVvhM3/view?usp=sharing"
   ]
  },
  {
   "cell_type": "code",
   "execution_count": 2,
   "metadata": {},
   "outputs": [
    {
     "data": {
      "text/plain": [
       "('woman', 'ac', 'z849768', 'a')"
      ]
     },
     "execution_count": 2,
     "metadata": {},
     "output_type": "execute_result"
    }
   ],
   "source": [
    "path2info('tidigits/disc_4.1.1/tidigits/train/woman/ac/z849768a.wav') #'tidigits/disc_4.1.1/tidigits/train/man/ae/z9z6531a.wav')"
   ]
  },
  {
   "cell_type": "code",
   "execution_count": 3,
   "metadata": {},
   "outputs": [
    {
     "data": {
      "text/plain": [
       "('man', 'ae', 'z9z6531', 'a')"
      ]
     },
     "execution_count": 3,
     "metadata": {},
     "output_type": "execute_result"
    }
   ],
   "source": [
    "path2info('tidigits\\\\disc_4.1.1\\\\tidigits\\\\train\\\\man\\\\ae\\\\z9z6531a.wav')"
   ]
  },
  {
   "cell_type": "code",
   "execution_count": 4,
   "metadata": {},
   "outputs": [
    {
     "data": {
      "text/plain": [
       "(array([ 8, 10, 10, ..., 14, 14, 10], dtype=int16), 20000)"
      ]
     },
     "execution_count": 4,
     "metadata": {},
     "output_type": "execute_result"
    }
   ],
   "source": [
    "import soundfile as sf\n",
    "loadAudio(\"C:\\\\Users\\\\A\\\\Desktop\\\\KTH\\\\dt2119_speech_recpgmotopm\\\\Speech-and-speaker-recognition\\\\lab3\\\\tidigits\\\\tidigits\\\\disc_4.1.1\\\\tidigits\\\\train\\\\man\\\\ae\\\\1a.wav\")"
   ]
  },
  {
   "cell_type": "code",
   "execution_count": 5,
   "metadata": {},
   "outputs": [],
   "source": [
    "from pathlib import Path\n",
    "base_path = Path(\"C:\\\\Users\\\\A\\\\Desktop\\\\KTH\\\\dt2119_speech_recpgmotopm\\\\Speech-and-speaker-recognition\\\\lab3\\\\tidigits\\\\\")\n",
    "filename = 'tidigits/disc_4.1.1/tidigits/train/man/nw/z43a.wav'\n",
    "filepath = base_path / Path(filename)\n",
    "samples, samplingrate = loadAudio(filepath)"
   ]
  },
  {
   "cell_type": "code",
   "execution_count": 6,
   "metadata": {},
   "outputs": [
    {
     "data": {
      "text/plain": [
       "['ah_0',\n",
       " 'ah_1',\n",
       " 'ah_2',\n",
       " 'ao_0',\n",
       " 'ao_1',\n",
       " 'ao_2',\n",
       " 'ay_0',\n",
       " 'ay_1',\n",
       " 'ay_2',\n",
       " 'eh_0',\n",
       " 'eh_1',\n",
       " 'eh_2',\n",
       " 'ey_0',\n",
       " 'ey_1',\n",
       " 'ey_2',\n",
       " 'f_0',\n",
       " 'f_1',\n",
       " 'f_2',\n",
       " 'ih_0',\n",
       " 'ih_1',\n",
       " 'ih_2',\n",
       " 'iy_0',\n",
       " 'iy_1',\n",
       " 'iy_2',\n",
       " 'k_0',\n",
       " 'k_1',\n",
       " 'k_2',\n",
       " 'n_0',\n",
       " 'n_1',\n",
       " 'n_2',\n",
       " 'ow_0',\n",
       " 'ow_1',\n",
       " 'ow_2',\n",
       " 'r_0',\n",
       " 'r_1',\n",
       " 'r_2',\n",
       " 's_0',\n",
       " 's_1',\n",
       " 's_2',\n",
       " 'sil_0',\n",
       " 'sil_1',\n",
       " 'sil_2',\n",
       " 'sp_0',\n",
       " 't_0',\n",
       " 't_1',\n",
       " 't_2',\n",
       " 'th_0',\n",
       " 'th_1',\n",
       " 'th_2',\n",
       " 'uw_0',\n",
       " 'uw_1',\n",
       " 'uw_2',\n",
       " 'v_0',\n",
       " 'v_1',\n",
       " 'v_2',\n",
       " 'w_0',\n",
       " 'w_1',\n",
       " 'w_2',\n",
       " 'z_0',\n",
       " 'z_1',\n",
       " 'z_2']"
      ]
     },
     "execution_count": 6,
     "metadata": {},
     "output_type": "execute_result"
    }
   ],
   "source": [
    "phoneHMMs = np.load('lab2_models_all.npz',allow_pickle=True)['phoneHMMs'].item()\n",
    "phones = sorted(phoneHMMs.keys())\n",
    "nstates = {phone: phoneHMMs[phone]['means'].shape[0] for phone in phones}\n",
    "stateList = [ph + '_' + str(id) for ph in phones for id in range(nstates[ph])]\n",
    "stateList\n"
   ]
  },
  {
   "cell_type": "code",
   "execution_count": 7,
   "metadata": {},
   "outputs": [
    {
     "data": {
      "text/plain": [
       "8"
      ]
     },
     "execution_count": 7,
     "metadata": {},
     "output_type": "execute_result"
    }
   ],
   "source": [
    "stateList.index('ay_2')"
   ]
  },
  {
   "cell_type": "markdown",
   "metadata": {},
   "source": [
    "## 4.2"
   ]
  },
  {
   "cell_type": "code",
   "execution_count": 8,
   "metadata": {},
   "outputs": [],
   "source": [
    "filename = 'tidigits/disc_4.1.1/tidigits/train/man/nw/z43a.wav'\n",
    "samples, samplingrate = loadAudio(base_path / Path(filename))\n",
    "\n",
    "lmfcc = mfcc(samples)"
   ]
  },
  {
   "cell_type": "code",
   "execution_count": 9,
   "metadata": {},
   "outputs": [],
   "source": [
    "example = np.load(\"lab3_example.npz\",allow_pickle=True)['example'].item()"
   ]
  },
  {
   "cell_type": "code",
   "execution_count": 10,
   "metadata": {},
   "outputs": [],
   "source": [
    "filename = 'tidigits/disc_4.1.1/tidigits/train/man/nw/z43a.wav'\n",
    "samples, samplingrate = loadAudio(base_path / Path(filename))\n",
    "lmfcc = mfcc(samples)\n",
    "wordTrans = list(path2info(filename)[2])\n",
    "phoneTrans = words2phones(wordTrans,prondict)\n",
    "utteranceHMM = concatHMMs(phoneHMMs,phoneTrans)"
   ]
  },
  {
   "cell_type": "code",
   "execution_count": 11,
   "metadata": {},
   "outputs": [
    {
     "data": {
      "text/plain": [
       "(178, 13)"
      ]
     },
     "execution_count": 11,
     "metadata": {},
     "output_type": "execute_result"
    }
   ],
   "source": [
    "lmfcc.shape"
   ]
  },
  {
   "cell_type": "code",
   "execution_count": 12,
   "metadata": {},
   "outputs": [],
   "source": [
    "stateTrans = [phone + '_' + str(stateid) for phone in phoneTrans \n",
    "              for stateid in range(nstates[phone])]"
   ]
  },
  {
   "cell_type": "code",
   "execution_count": 13,
   "metadata": {},
   "outputs": [
    {
     "data": {
      "text/plain": [
       "'r_1'"
      ]
     },
     "execution_count": 13,
     "metadata": {},
     "output_type": "execute_result"
    }
   ],
   "source": [
    "stateTrans[10]"
   ]
  },
  {
   "cell_type": "code",
   "execution_count": 14,
   "metadata": {},
   "outputs": [
    {
     "name": "stderr",
     "output_type": "stream",
     "text": [
      "C:\\Users\\A\\AppData\\Local\\Temp\\ipykernel_17500\\1985007783.py:6: RuntimeWarning: divide by zero encountered in log\n",
      "  score,path=viterbi(log_likelihoods,np.log(Hmm[\"startprob\"]),np.log(Hmm[\"transmat\"]),False)\n"
     ]
    },
    {
     "data": {
      "text/plain": [
       "['sil_0',\n",
       " 'sil_1',\n",
       " 'sil_1',\n",
       " 'sil_1',\n",
       " 'sil_1',\n",
       " 'sil_1',\n",
       " 'sil_1',\n",
       " 'sil_1',\n",
       " 'sil_1',\n",
       " 'sil_1',\n",
       " 'sil_1',\n",
       " 'sil_1',\n",
       " 'sil_1',\n",
       " 'sil_1',\n",
       " 'sil_1',\n",
       " 'sil_1',\n",
       " 'sil_1',\n",
       " 'sil_1',\n",
       " 'sil_1',\n",
       " 'sil_2',\n",
       " 'z_0',\n",
       " 'z_0',\n",
       " 'z_0',\n",
       " 'z_0',\n",
       " 'z_1',\n",
       " 'z_2',\n",
       " 'z_2',\n",
       " 'z_2',\n",
       " 'z_2',\n",
       " 'z_2',\n",
       " 'z_2',\n",
       " 'z_2',\n",
       " 'z_2',\n",
       " 'z_2',\n",
       " 'z_2',\n",
       " 'z_2',\n",
       " 'iy_0',\n",
       " 'iy_0',\n",
       " 'iy_0',\n",
       " 'iy_0',\n",
       " 'iy_0',\n",
       " 'iy_0',\n",
       " 'iy_0',\n",
       " 'iy_0',\n",
       " 'iy_1',\n",
       " 'iy_2',\n",
       " 'r_0',\n",
       " 'r_0',\n",
       " 'r_0',\n",
       " 'r_0',\n",
       " 'r_0',\n",
       " 'r_0',\n",
       " 'r_0',\n",
       " 'r_0',\n",
       " 'r_0',\n",
       " 'r_0',\n",
       " 'r_1',\n",
       " 'r_2',\n",
       " 'ow_0',\n",
       " 'ow_1',\n",
       " 'ow_2',\n",
       " 'ow_2',\n",
       " 'ow_2',\n",
       " 'ow_2',\n",
       " 'ow_2',\n",
       " 'ow_2',\n",
       " 'ow_2',\n",
       " 'ow_2',\n",
       " 'ow_2',\n",
       " 'f_0',\n",
       " 'f_1',\n",
       " 'f_1',\n",
       " 'f_1',\n",
       " 'f_1',\n",
       " 'f_1',\n",
       " 'f_1',\n",
       " 'f_1',\n",
       " 'f_1',\n",
       " 'f_1',\n",
       " 'f_1',\n",
       " 'f_1',\n",
       " 'f_2',\n",
       " 'ao_0',\n",
       " 'ao_1',\n",
       " 'ao_1',\n",
       " 'ao_1',\n",
       " 'ao_1',\n",
       " 'ao_1',\n",
       " 'ao_1',\n",
       " 'ao_1',\n",
       " 'ao_1',\n",
       " 'ao_1',\n",
       " 'ao_1',\n",
       " 'ao_1',\n",
       " 'ao_1',\n",
       " 'ao_1',\n",
       " 'ao_1',\n",
       " 'ao_2',\n",
       " 'ao_2',\n",
       " 'ao_2',\n",
       " 'ao_2',\n",
       " 'ao_2',\n",
       " 'ao_2',\n",
       " 'ao_2',\n",
       " 'ao_2',\n",
       " 'ao_2',\n",
       " 'ao_2',\n",
       " 'ao_2',\n",
       " 'r_0',\n",
       " 'r_0',\n",
       " 'r_0',\n",
       " 'r_1',\n",
       " 'r_2',\n",
       " 'th_0',\n",
       " 'th_0',\n",
       " 'th_0',\n",
       " 'th_0',\n",
       " 'th_0',\n",
       " 'th_0',\n",
       " 'th_0',\n",
       " 'th_0',\n",
       " 'th_0',\n",
       " 'th_0',\n",
       " 'th_1',\n",
       " 'th_1',\n",
       " 'th_1',\n",
       " 'th_2',\n",
       " 'r_0',\n",
       " 'r_0',\n",
       " 'r_0',\n",
       " 'r_0',\n",
       " 'r_0',\n",
       " 'r_0',\n",
       " 'r_0',\n",
       " 'r_0',\n",
       " 'r_0',\n",
       " 'r_1',\n",
       " 'r_2',\n",
       " 'iy_0',\n",
       " 'iy_0',\n",
       " 'iy_0',\n",
       " 'iy_0',\n",
       " 'iy_0',\n",
       " 'iy_0',\n",
       " 'iy_0',\n",
       " 'iy_0',\n",
       " 'iy_0',\n",
       " 'iy_0',\n",
       " 'iy_1',\n",
       " 'iy_1',\n",
       " 'iy_2',\n",
       " 'iy_2',\n",
       " 'iy_2',\n",
       " 'iy_2',\n",
       " 'iy_2',\n",
       " 'iy_2',\n",
       " 'iy_2',\n",
       " 'iy_2',\n",
       " 'sil_0',\n",
       " 'sil_0',\n",
       " 'sil_0',\n",
       " 'sil_0',\n",
       " 'sil_0',\n",
       " 'sil_0',\n",
       " 'sil_0',\n",
       " 'sil_0',\n",
       " 'sil_0',\n",
       " 'sil_0',\n",
       " 'sil_0',\n",
       " 'sil_0',\n",
       " 'sil_0',\n",
       " 'sil_0',\n",
       " 'sil_0',\n",
       " 'sil_0',\n",
       " 'sil_0',\n",
       " 'sil_0',\n",
       " 'sil_1',\n",
       " 'sil_2']"
      ]
     },
     "execution_count": 14,
     "metadata": {},
     "output_type": "execute_result"
    }
   ],
   "source": [
    "#align the states in the utteranceHMM model to the sequence of feature vectors in lmfcc\n",
    "\n",
    "X0 = lmfcc\n",
    "Hmm = utteranceHMM\n",
    "log_likelihoods=log_multivariate_normal_density_diag(X0,Hmm[\"means\"],Hmm[\"covars\"])\n",
    "score,path=viterbi(log_likelihoods,np.log(Hmm[\"startprob\"]),np.log(Hmm[\"transmat\"]),False)\n",
    "state_seq = []\n",
    "for i in range(len(path)):\n",
    "    state_seq.append(stateTrans[path[i]])\n",
    "state_seq"
   ]
  },
  {
   "cell_type": "code",
   "execution_count": 15,
   "metadata": {},
   "outputs": [
    {
     "data": {
      "text/plain": [
       "array([ 0,  1,  1,  1,  1,  1,  1,  1,  1,  1,  1,  1,  1,  1,  1,  1,  1,\n",
       "        1,  1,  2,  3,  3,  3,  3,  4,  5,  5,  5,  5,  5,  5,  5,  5,  5,\n",
       "        5,  5,  6,  6,  6,  6,  6,  6,  6,  6,  7,  8,  9,  9,  9,  9,  9,\n",
       "        9,  9,  9,  9,  9, 10, 11, 12, 13, 14, 14, 14, 14, 14, 14, 14, 14,\n",
       "       14, 16, 17, 17, 17, 17, 17, 17, 17, 17, 17, 17, 17, 18, 19, 20, 20,\n",
       "       20, 20, 20, 20, 20, 20, 20, 20, 20, 20, 20, 20, 21, 21, 21, 21, 21,\n",
       "       21, 21, 21, 21, 21, 21, 22, 22, 22, 23, 24, 26, 26, 26, 26, 26, 26,\n",
       "       26, 26, 26, 26, 27, 27, 27, 28, 29, 29, 29, 29, 29, 29, 29, 29, 29,\n",
       "       30, 31, 32, 32, 32, 32, 32, 32, 32, 32, 32, 32, 33, 33, 34, 34, 34,\n",
       "       34, 34, 34, 34, 34, 36, 36, 36, 36, 36, 36, 36, 36, 36, 36, 36, 36,\n",
       "       36, 36, 36, 36, 36, 36, 37, 38], dtype=int64)"
      ]
     },
     "execution_count": 15,
     "metadata": {},
     "output_type": "execute_result"
    }
   ],
   "source": [
    "path"
   ]
  },
  {
   "cell_type": "code",
   "execution_count": 16,
   "metadata": {},
   "outputs": [
    {
     "data": {
      "text/plain": [
       "'0 0.01 sil_0\\n0.01 0.19000000000000003 sil_1\\n0.19000000000000003 0.20000000000000004 sil_2\\n0.20000000000000004 0.24000000000000007 z_0\\n0.24000000000000007 0.25000000000000006 z_1\\n0.25000000000000006 0.36000000000000015 z_2\\n0.36000000000000015 0.4400000000000002 iy_0\\n0.4400000000000002 0.45000000000000023 iy_1\\n0.45000000000000023 0.46000000000000024 iy_2\\n0.46000000000000024 0.5600000000000003 r_0\\n0.5600000000000003 0.5700000000000003 r_1\\n0.5700000000000003 0.5800000000000003 r_2\\n0.5800000000000003 0.5900000000000003 ow_0\\n0.5900000000000003 0.6000000000000003 ow_1\\n0.6000000000000003 0.6900000000000004 ow_2\\n0.6900000000000004 0.7000000000000004 f_0\\n0.7000000000000004 0.8100000000000005 f_1\\n0.8100000000000005 0.8200000000000005 f_2\\n0.8200000000000005 0.8300000000000005 ao_0\\n0.8300000000000005 0.9700000000000006 ao_1\\n0.9700000000000006 1.0800000000000007 ao_2\\n1.0800000000000007 1.1100000000000008 r_0\\n1.1100000000000008 1.1200000000000008 r_1\\n1.1200000000000008 1.1300000000000008 r_2\\n1.1300000000000008 1.2300000000000009 th_0\\n1.2300000000000009 1.260000000000001 th_1\\n1.260000000000001 1.270000000000001 th_2\\n1.270000000000001 1.360000000000001 r_0\\n1.360000000000001 1.370000000000001 r_1\\n1.370000000000001 1.380000000000001 r_2\\n1.380000000000001 1.480000000000001 iy_0\\n1.480000000000001 1.500000000000001 iy_1\\n1.500000000000001 1.5800000000000012 iy_2\\n1.5800000000000012 1.7600000000000013 sil_0\\n1.7600000000000013 1.7700000000000014 sil_1\\n1.7700000000000014 1.7800000000000014 sil_2\\n'"
      ]
     },
     "execution_count": 16,
     "metadata": {},
     "output_type": "execute_result"
    }
   ],
   "source": [
    "#take state_seq and create a transcription file based on it\n",
    "#[sil_0,sil_1,sil_1,z_0,z_1,z_2...] -> \"z\" at 40 ms\n",
    "frames2trans(state_seq, outfilename='z43a.lab')"
   ]
  },
  {
   "cell_type": "markdown",
   "metadata": {},
   "source": [
    "the alignment is mostly good but some parts bleed in to each other e.g. \"r\" in four"
   ]
  },
  {
   "cell_type": "markdown",
   "metadata": {},
   "source": [
    "## 4.3"
   ]
  },
  {
   "cell_type": "code",
   "execution_count": 17,
   "metadata": {},
   "outputs": [
    {
     "data": {
      "text/plain": [
       "0"
      ]
     },
     "execution_count": 17,
     "metadata": {},
     "output_type": "execute_result"
    }
   ],
   "source": [
    "stateList.index(\"ah_0\") "
   ]
  },
  {
   "cell_type": "code",
   "execution_count": 18,
   "metadata": {},
   "outputs": [],
   "source": [
    "import os\n",
    "from pathlib import Path\n",
    "if not Path(\"traindata.npz\").exists():\n",
    "    traindata = []\n",
    "    for root, dirs, files in os.walk(base_path / 'tidigits/disc_4.1.1/tidigits/train'):\n",
    "        for file in files:\n",
    "            if file.endswith('.wav'):\n",
    "                filename = os.path.join(root, file)\n",
    "                samples, samplingrate = loadAudio(filename)\n",
    "                \n",
    "                mspec_vals = mspec(samples)\n",
    "\n",
    "                lmfcc = mfcc(samples)\n",
    "                wordTrans = list(path2info(filename)[2])\n",
    "                #phoneHMM har vi redan\n",
    "                phoneTrans = words2phones(wordTrans,prondict)\n",
    "                utteranceHMM = concatHMMs(phoneHMMs,phoneTrans)\n",
    "                stateTrans = [phone + '_' + str(stateid) for phone in phoneTrans \n",
    "                                for stateid in range(nstates[phone])]\n",
    "                Hmm = utteranceHMM\n",
    "                log_likelihoods=log_multivariate_normal_density_diag(lmfcc,Hmm[\"means\"],Hmm[\"covars\"])\n",
    "                score,path=viterbi(log_likelihoods,np.log(Hmm[\"startprob\"]),np.log(Hmm[\"transmat\"]),False)\n",
    "                \n",
    "                state_seq = []\n",
    "                for i in range(len(path)):\n",
    "                    state_seq.append(stateTrans[path[i]])\n",
    "                \n",
    "\n",
    "                traindata.append({'filename': filename, 'lmfcc': lmfcc,\n",
    "                    'mspec': mspec_vals, 'targets': state_seq})\n",
    "    np.savez('traindata.npz', traindata=traindata)"
   ]
  },
  {
   "cell_type": "code",
   "execution_count": null,
   "metadata": {},
   "outputs": [],
   "source": []
  },
  {
   "cell_type": "code",
   "execution_count": 19,
   "metadata": {},
   "outputs": [],
   "source": [
    "import os\n",
    "if not Path(\"testdata.npz\").exists():\n",
    "    testdata = []\n",
    "    for root, dirs, files in os.walk(base_path / 'tidigits/disc_4.2.1/tidigits/test'):\n",
    "        for file in files:\n",
    "            if file.endswith('.wav'):\n",
    "                filename = os.path.join(root, file)\n",
    "                samples, samplingrate = loadAudio(filename)\n",
    "                \n",
    "                mspec_vals = mspec(samples)\n",
    "\n",
    "                lmfcc = mfcc(samples)\n",
    "                wordTrans = list(path2info(filename)[2])\n",
    "                phoneTrans = words2phones(wordTrans,prondict)\n",
    "                utteranceHMM = concatHMMs(phoneHMMs,phoneTrans)\n",
    "                stateTrans = [phone + '_' + str(stateid) for phone in phoneTrans \n",
    "                                for stateid in range(nstates[phone])]\n",
    "                Hmm = utteranceHMM\n",
    "                log_likelihoods=log_multivariate_normal_density_diag(lmfcc,Hmm[\"means\"],Hmm[\"covars\"])\n",
    "                score,path=viterbi(log_likelihoods,np.log(Hmm[\"startprob\"]),np.log(Hmm[\"transmat\"]),False)\n",
    "                \n",
    "                state_seq = []\n",
    "                for i in range(len(path)):\n",
    "                    state_seq.append(stateTrans[path[i]])\n",
    "                \n",
    "\n",
    "                testdata.append({'filename': filename, 'lmfcc': lmfcc,\n",
    "                    'mspec': mspec_vals, 'targets': state_seq})\n",
    "    np.savez('testdata.npz', testdata=testdata)"
   ]
  },
  {
   "cell_type": "code",
   "execution_count": 20,
   "metadata": {},
   "outputs": [],
   "source": [
    "traindata = np.load(\"traindata.npz\",allow_pickle=True)['traindata']\n",
    "testdata = np.load(\"testdata.npz\",allow_pickle=True)['testdata']"
   ]
  },
  {
   "cell_type": "markdown",
   "metadata": {},
   "source": [
    "## 4.4"
   ]
  },
  {
   "cell_type": "code",
   "execution_count": 21,
   "metadata": {},
   "outputs": [
    {
     "data": {
      "text/plain": [
       "(4235, 4388)"
      ]
     },
     "execution_count": 21,
     "metadata": {},
     "output_type": "execute_result"
    }
   ],
   "source": [
    "males = []\n",
    "females = []\n",
    "for i in range(len(traindata)):\n",
    "    speaker_gender = path2info(traindata[i][\"filename\"])[0]\n",
    "    if speaker_gender == \"man\":\n",
    "        males.append(traindata[i])\n",
    "    else:\n",
    "        females.append(traindata[i])\n",
    "len(males),len(females)"
   ]
  },
  {
   "cell_type": "code",
   "execution_count": 22,
   "metadata": {},
   "outputs": [],
   "source": [
    "import random\n",
    "train_size_male = int(0.9 * len(males))\n",
    "train_size_female = int(0.9 * len(females))\n",
    "\n",
    "random.shuffle(males)\n",
    "random.shuffle(females)\n",
    "#extract the amount of males we need\n",
    "train_males = males[:train_size_male]\n",
    "val_males = males[train_size_male:]\n",
    "#females we need\n",
    "train_females = females[:train_size_female]\n",
    "val_females = females[train_size_female:]\n",
    "#merge them\n",
    "train_data = train_males + train_females\n",
    "val_data = val_males + val_females\n",
    "#shuffle again to avoid it being MMMM...FFFF... instead MFMFFMFM...\n",
    "random.shuffle(train_data)\n",
    "random.shuffle(val_data)"
   ]
  },
  {
   "cell_type": "code",
   "execution_count": 23,
   "metadata": {},
   "outputs": [
    {
     "name": "stdout",
     "output_type": "stream",
     "text": [
      "male to female ratio is 0.9650544441630793\n",
      "male to female ratio is 0.9658314350797267\n"
     ]
    }
   ],
   "source": [
    "#check gender ratio\n",
    "for k in [train_data,val_data]:\n",
    "    male = 0\n",
    "    female = 0\n",
    "    for i in range(len(k)):\n",
    "        speaker_gender = path2info(k[i][\"filename\"])[0]\n",
    "        if speaker_gender == \"man\":\n",
    "            male += 1\n",
    "        else:\n",
    "            female +=1\n",
    "    print(f\"male to female ratio is {male/female}\")"
   ]
  },
  {
   "cell_type": "code",
   "execution_count": 24,
   "metadata": {},
   "outputs": [],
   "source": [
    "traindata=train_data\n",
    "valdata=val_data\n"
   ]
  },
  {
   "cell_type": "markdown",
   "metadata": {},
   "source": [
    "## 4.5"
   ]
  },
  {
   "cell_type": "code",
   "execution_count": 25,
   "metadata": {},
   "outputs": [],
   "source": [
    "def get_indices(i,length):\n",
    "    idx_list = list(range(length))\n",
    "    idx_list = idx_list[1:4][::-1] + idx_list + idx_list[-4:-1][::-1]\n",
    "    return idx_list[i:i + 7]\n",
    "for dataset in [traindata, valdata,testdata]:\n",
    "    for i in range(len(dataset)):\n",
    "        #Tx91, where T is number of frames in the datapoint\n",
    "        datapoint_dynamic = np.zeros((len(dataset[i][\"lmfcc\"]),7*dataset[i][\"lmfcc\"].shape[1]))#a new matrix that stores the stacked (dynamic) data of dataset[i]\n",
    "        for t in range(len(dataset[i])):\n",
    "            indxs = get_indices(t,len(dataset[i]))\n",
    "            for k in indxs:\n",
    "                datapoint_dynamic[t,13*k:13*(k+1)] = dataset[i][\"lmfcc\"][k] #1x13\n",
    "\n",
    "        dataset[i][\"lmfcc_dynamic\"] = datapoint_dynamic"
   ]
  },
  {
   "cell_type": "code",
   "execution_count": 26,
   "metadata": {},
   "outputs": [
    {
     "data": {
      "text/plain": [
       "((105, 91), (105, 13))"
      ]
     },
     "execution_count": 26,
     "metadata": {},
     "output_type": "execute_result"
    }
   ],
   "source": [
    "traindata[2][\"lmfcc_dynamic\"].shape,traindata[2][\"lmfcc\"].shape"
   ]
  },
  {
   "cell_type": "markdown",
   "metadata": {},
   "source": [
    "create dynamic version of mspec"
   ]
  },
  {
   "cell_type": "code",
   "execution_count": 27,
   "metadata": {},
   "outputs": [],
   "source": [
    "for dataset in [traindata, valdata,testdata]:\n",
    "    for i in range(len(dataset)):\n",
    "        #Tx91, where T is number of frames in the datapoint\n",
    "        datapoint_dynamic = np.zeros((len(dataset[i][\"mspec\"]),7*dataset[i][\"mspec\"].shape[1]))#a new matrix that stores the stacked (dynamic) data of dataset[i]\n",
    "        for t in range(len(dataset[i])):\n",
    "            indxs = get_indices(t,len(dataset[i]))\n",
    "            for k in indxs:\n",
    "                datapoint_dynamic[t,40*k:40*(k+1)] = dataset[i][\"mspec\"][k] #1x13\n",
    "\n",
    "        dataset[i][\"mspec_dynamic\"] = datapoint_dynamic"
   ]
  },
  {
   "cell_type": "markdown",
   "metadata": {},
   "source": [
    "create our big matrices"
   ]
  },
  {
   "cell_type": "code",
   "execution_count": 28,
   "metadata": {},
   "outputs": [],
   "source": [
    "lmfcc_train_x=np.concatenate([d[\"lmfcc\"] for d in traindata]).astype('float32')\n",
    "lmfcc_val_x=np.concatenate([d[\"lmfcc\"] for d in valdata]).astype('float32')\n",
    "lmfcc_test_x=np.concatenate([d[\"lmfcc\"] for d in testdata]).astype('float32')\n",
    "\n",
    "lmfcc_train_x_dynamic = np.concatenate([d[\"lmfcc_dynamic\"] for d in traindata]).astype('float32')\n",
    "lmfcc_val_x_dynamic=np.concatenate([d[\"lmfcc_dynamic\"] for d in valdata]).astype('float32')\n",
    "lmfcc_test_x_dynamic=np.concatenate([d[\"lmfcc_dynamic\"] for d in testdata]).astype('float32')\n",
    "\n",
    "\n",
    "mspec_train_x = np.concatenate([d[\"mspec\"] for d in traindata]).astype('float32')\n",
    "mspec_val_x = np.concatenate([d[\"mspec\"] for d in valdata]).astype('float32')\n",
    "mspec_test_x = np.concatenate([d[\"mspec\"] for d in testdata]).astype('float32')\n",
    "\n",
    "\n",
    "mspec_train_x_dynamic = np.concatenate([d[\"mspec_dynamic\"] for d in traindata]).astype('float32') \n",
    "mspec_val_x_dynamic = np.concatenate([d[\"mspec_dynamic\"] for d in valdata]).astype('float32')\n",
    "mspec_test_x_dynamic = np.concatenate([d[\"mspec_dynamic\"] for d in testdata]).astype('float32') \n",
    "\n"
   ]
  },
  {
   "cell_type": "code",
   "execution_count": 29,
   "metadata": {},
   "outputs": [
    {
     "name": "stdout",
     "output_type": "stream",
     "text": [
      "(1359666,)\n",
      "(147726,)\n",
      "(1527014,)\n"
     ]
    }
   ],
   "source": [
    "\n",
    "import torch\n",
    "import torch.nn.functional as F\n",
    "\n",
    "train_y = np.concatenate([[stateList.index(targ) for targ in d[\"targets\"]] for d in traindata]).flatten()\n",
    "print(train_y.shape)\n",
    "val_y = np.concatenate([[stateList.index(targ) for targ in d[\"targets\"]] for d in valdata]).flatten()\n",
    "print(val_y.shape)\n",
    "test_y = np.concatenate([[stateList.index(targ) for targ in d[\"targets\"]] for d in testdata]).flatten()\n",
    "print(test_y.shape)\n",
    "\n",
    "output_dim = len(stateList)\n",
    "\n",
    "train_y = F.one_hot(torch.tensor(train_y, dtype=torch.long),num_classes=output_dim)\n",
    "val_y = F.one_hot(torch.tensor(val_y, dtype=torch.long),num_classes=output_dim)\n",
    "test_y = F.one_hot(torch.tensor(test_y, dtype=torch.long),num_classes=output_dim)\n"
   ]
  },
  {
   "cell_type": "code",
   "execution_count": 30,
   "metadata": {},
   "outputs": [],
   "source": [
    "import torch\n",
    "import torch.nn as nn\n",
    "import torch.nn.functional as F\n",
    "\n",
    "#experiment 1\n",
    "train_x = mspec_train_x\n",
    "val_x = mspec_val_x\n",
    "test_x = mspec_test_x\n",
    "class SimpleNet(nn.Module):\n",
    "    def __init__(self,input_size):\n",
    "        super(SimpleNet, self).__init__()\n",
    "        # Define layers here, for example:\n",
    "        # A fully connected layer from input of size to a hidden layer of size 256\n",
    "        self.fc1 = nn.Linear(input_size, 256)\n",
    "        # Define the second hidden layer\n",
    "        self.fc2 = nn.Linear(256, 256)\n",
    "        # Define the third hidden layer\n",
    "        self.fc3 = nn.Linear(256, 256)\n",
    "        # Define the fourth hidden layer\n",
    "        self.fc4 = nn.Linear(256, output_dim)\n",
    "\n",
    "    \n",
    "    def forward(self, x):\n",
    "        # Define the forward pass\n",
    "        x = self.fc1(x)\n",
    "        x = F.relu(x)  # Apply ReLU activation after first layer\n",
    "        x = self.fc2(x)          # Output layer\n",
    "        x = F.relu(x)\n",
    "        x = self.fc3(x)\n",
    "        x = F.relu(x)\n",
    "        x = self.fc4(x)\n",
    "        return x\n",
    "    \n",
    "    def count_parameters(self):\n",
    "        return sum(p.numel() for p in self.parameters() if p.requires_grad)\n",
    "\n",
    "\n"
   ]
  },
  {
   "cell_type": "code",
   "execution_count": 38,
   "metadata": {},
   "outputs": [
    {
     "name": "stdout",
     "output_type": "stream",
     "text": [
      "157757\n"
     ]
    },
    {
     "data": {
      "text/plain": [
       "SimpleNet(\n",
       "  (fc1): Linear(in_features=40, out_features=256, bias=True)\n",
       "  (fc2): Linear(in_features=256, out_features=256, bias=True)\n",
       "  (fc3): Linear(in_features=256, out_features=256, bias=True)\n",
       "  (fc4): Linear(in_features=256, out_features=61, bias=True)\n",
       ")"
      ]
     },
     "execution_count": 38,
     "metadata": {},
     "output_type": "execute_result"
    }
   ],
   "source": [
    "net = SimpleNet(40)\n",
    "print(net.count_parameters())\n",
    "optimizer = torch.optim.SGD(net.parameters(),lr=1e-3)\n",
    "batch_size = 256\n",
    "net.to(torch.device(\"cuda\"))"
   ]
  },
  {
   "cell_type": "code",
   "execution_count": 39,
   "metadata": {},
   "outputs": [
    {
     "name": "stderr",
     "output_type": "stream",
     "text": [
      "C:\\Users\\A\\AppData\\Local\\Temp\\ipykernel_17500\\636988354.py:3: UserWarning: To copy construct from a tensor, it is recommended to use sourceTensor.clone().detach() or sourceTensor.clone().detach().requires_grad_(True), rather than torch.tensor(sourceTensor).\n",
      "  train_x = torch.tensor(train_x)\n",
      "C:\\Users\\A\\AppData\\Local\\Temp\\ipykernel_17500\\636988354.py:4: UserWarning: To copy construct from a tensor, it is recommended to use sourceTensor.clone().detach() or sourceTensor.clone().detach().requires_grad_(True), rather than torch.tensor(sourceTensor).\n",
      "  train_y = torch.tensor(train_y)\n",
      "C:\\Users\\A\\AppData\\Local\\Temp\\ipykernel_17500\\636988354.py:5: UserWarning: To copy construct from a tensor, it is recommended to use sourceTensor.clone().detach() or sourceTensor.clone().detach().requires_grad_(True), rather than torch.tensor(sourceTensor).\n",
      "  val_x = torch.tensor(val_x)\n",
      "C:\\Users\\A\\AppData\\Local\\Temp\\ipykernel_17500\\636988354.py:6: UserWarning: To copy construct from a tensor, it is recommended to use sourceTensor.clone().detach() or sourceTensor.clone().detach().requires_grad_(True), rather than torch.tensor(sourceTensor).\n",
      "  val_y = torch.tensor(val_y)\n",
      "C:\\Users\\A\\AppData\\Local\\Temp\\ipykernel_17500\\636988354.py:7: UserWarning: To copy construct from a tensor, it is recommended to use sourceTensor.clone().detach() or sourceTensor.clone().detach().requires_grad_(True), rather than torch.tensor(sourceTensor).\n",
      "  test_x = torch.tensor(test_x)\n",
      "C:\\Users\\A\\AppData\\Local\\Temp\\ipykernel_17500\\636988354.py:8: UserWarning: To copy construct from a tensor, it is recommended to use sourceTensor.clone().detach() or sourceTensor.clone().detach().requires_grad_(True), rather than torch.tensor(sourceTensor).\n",
      "  test_y = torch.tensor(test_y)\n"
     ]
    }
   ],
   "source": [
    "from torch.utils.tensorboard import SummaryWriter\n",
    "\n",
    "train_x = torch.tensor(train_x)\n",
    "train_y = torch.tensor(train_y)\n",
    "val_x = torch.tensor(val_x)\n",
    "val_y = torch.tensor(val_y)\n",
    "test_x = torch.tensor(test_x)\n",
    "test_y = torch.tensor(test_y)\n",
    "\n",
    "# create the data loaders for training and validation sets\n",
    "train_dataset = torch.utils.data.TensorDataset(train_x, train_y)\n",
    "train_loader = torch.utils.data.DataLoader(train_dataset, batch_size=batch_size, shuffle=True)\n",
    "val_dataset = torch.utils.data.TensorDataset(val_x, val_y)\n",
    "val_loader = torch.utils.data.DataLoader(val_dataset, batch_size=batch_size, shuffle=False)\n",
    "\n",
    "# setup logging so that you can follow training using TensorBoard (see https://pytorch.org/docs/stable/tensorboard.html)\n",
    "writer = SummaryWriter()\n",
    "num_epochs = 100"
   ]
  },
  {
   "cell_type": "code",
   "execution_count": 40,
   "metadata": {},
   "outputs": [],
   "source": [
    "#cross entropy bcs of classfication task\n",
    "criterion = nn.BCEWithLogitsLoss()"
   ]
  },
  {
   "cell_type": "code",
   "execution_count": 34,
   "metadata": {},
   "outputs": [
    {
     "ename": "NameError",
     "evalue": "name 'inputs' is not defined",
     "output_type": "error",
     "traceback": [
      "\u001b[1;31m---------------------------------------------------------------------------\u001b[0m",
      "\u001b[1;31mNameError\u001b[0m                                 Traceback (most recent call last)",
      "Cell \u001b[1;32mIn[34], line 1\u001b[0m\n\u001b[1;32m----> 1\u001b[0m \u001b[43minputs\u001b[49m\u001b[38;5;241m.\u001b[39mshape\n",
      "\u001b[1;31mNameError\u001b[0m: name 'inputs' is not defined"
     ]
    }
   ],
   "source": [
    "inputs.shape"
   ]
  },
  {
   "cell_type": "code",
   "execution_count": null,
   "metadata": {},
   "outputs": [
    {
     "data": {
      "text/plain": [
       "(torch.Size([256, 61]), torch.Size([256, 61]))"
      ]
     },
     "execution_count": 108,
     "metadata": {},
     "output_type": "execute_result"
    }
   ],
   "source": [
    "labels.shape,outputs.shape"
   ]
  },
  {
   "cell_type": "markdown",
   "metadata": {},
   "source": [
    "training loop"
   ]
  },
  {
   "cell_type": "code",
   "execution_count": 41,
   "metadata": {},
   "outputs": [],
   "source": [
    "device = torch.device(\"cuda\")"
   ]
  },
  {
   "cell_type": "code",
   "execution_count": null,
   "metadata": {},
   "outputs": [],
   "source": [
    "writer = SummaryWriter()"
   ]
  },
  {
   "cell_type": "code",
   "execution_count": 53,
   "metadata": {},
   "outputs": [
    {
     "name": "stdout",
     "output_type": "stream",
     "text": [
      "Epoch 0: train_loss=0.08740046720654446, val_loss=0.08624823299916558,train_acc=0.210749551728145,val_acc=0.2189729634593775\n",
      "Epoch 1: train_loss=0.08549356522986733, val_loss=0.08444152196231185,train_acc=0.22240535543287837,val_acc=0.2299459810730677\n",
      "Epoch 2: train_loss=0.08379624891291226, val_loss=0.0828214443150173,train_acc=0.23344188940519217,val_acc=0.24315286408621367\n",
      "Epoch 3: train_loss=0.08226403349544853, val_loss=0.08135354683241423,train_acc=0.244927798444618,val_acc=0.25178370767501995\n",
      "Epoch 4: train_loss=0.08086440687247338, val_loss=0.08000942692160606,train_acc=0.25397119586722033,val_acc=0.2593517728768125\n",
      "Epoch 5: train_loss=0.0795739140131522, val_loss=0.07876283820447831,train_acc=0.26090083888249027,val_acc=0.2684361588345992\n",
      "Epoch 6: train_loss=0.07837536404924804, val_loss=0.0776062538931114,train_acc=0.26833869494419954,val_acc=0.2740005144659708\n",
      "Epoch 7: train_loss=0.07725565512215786, val_loss=0.07652381101822976,train_acc=0.27428427275522077,val_acc=0.279815333793645\n",
      "Epoch 8: train_loss=0.07620193157765835, val_loss=0.07550372256152976,train_acc=0.27998935032574174,val_acc=0.28522399577596363\n",
      "Epoch 9: train_loss=0.0752025539804452, val_loss=0.07453356128972294,train_acc=0.28505309392159545,val_acc=0.29059204202374667\n",
      "Epoch 10: train_loss=0.07424879059369441, val_loss=0.07360331518221067,train_acc=0.2905184067263578,val_acc=0.2962985527259927\n",
      "Epoch 11: train_loss=0.07333236538625536, val_loss=0.07270927622811192,train_acc=0.29673096186857656,val_acc=0.29939888712887375\n",
      "Epoch 12: train_loss=0.07245036559347737, val_loss=0.07184452371459106,train_acc=0.30132400162981204,val_acc=0.3055927866455465\n",
      "Epoch 13: train_loss=0.07159453998067337, val_loss=0.07100763292435337,train_acc=0.30721515430995555,val_acc=0.31043282834436725\n",
      "Epoch 14: train_loss=0.07076644223794924, val_loss=0.07019310322780303,train_acc=0.3120942937456699,val_acc=0.31633564843020184\n",
      "Epoch 15: train_loss=0.06995937178480854, val_loss=0.06940326002461894,train_acc=0.3175412196818925,val_acc=0.3201196810310981\n",
      "Epoch 16: train_loss=0.06917769208701934, val_loss=0.06863570186892802,train_acc=0.3220312929793052,val_acc=0.3240661765701366\n",
      "Epoch 17: train_loss=0.06841708618112424, val_loss=0.06788735244436041,train_acc=0.3258270781206561,val_acc=0.3297117636705793\n",
      "Epoch 18: train_loss=0.067676248249783, val_loss=0.06715675134044205,train_acc=0.32992734980502564,val_acc=0.3334077955133152\n",
      "Epoch 19: train_loss=0.06695407019936513, val_loss=0.06644494100683287,train_acc=0.33351867296821425,val_acc=0.3369007486833733\n",
      "Epoch 20: train_loss=0.06625295860737741, val_loss=0.06575342688619265,train_acc=0.3371210282525267,val_acc=0.3398792358826476\n",
      "Epoch 21: train_loss=0.06556862064339894, val_loss=0.06508239985131062,train_acc=0.3404321355391692,val_acc=0.3428780309491897\n",
      "Epoch 22: train_loss=0.06490500881378707, val_loss=0.06442912056346047,train_acc=0.343794726057723,val_acc=0.34727806885720863\n",
      "Epoch 23: train_loss=0.06426146862739472, val_loss=0.06379436160789023,train_acc=0.34755962125992707,val_acc=0.3513937966234786\n",
      "Epoch 24: train_loss=0.06363584232693313, val_loss=0.06317852229318198,train_acc=0.35124876256374726,val_acc=0.354243667330057\n",
      "Epoch 25: train_loss=0.06303211152539533, val_loss=0.06258509910075723,train_acc=0.3545679600725472,val_acc=0.3566332263785657\n",
      "Epoch 26: train_loss=0.06244722783077419, val_loss=0.0620097181659875,train_acc=0.35711785100164306,val_acc=0.3596387907341971\n",
      "Epoch 27: train_loss=0.06188360941231655, val_loss=0.061455266614634685,train_acc=0.3595449176488932,val_acc=0.3615409609682791\n",
      "Epoch 28: train_loss=0.06134018750513444, val_loss=0.060922126733668945,train_acc=0.36148289359298535,val_acc=0.3638425192586275\n",
      "Epoch 29: train_loss=0.06081894510397575, val_loss=0.06041253370371451,train_acc=0.36343631450665087,val_acc=0.3658056130945128\n",
      "Epoch 30: train_loss=0.06031878482331578, val_loss=0.0599221239079138,train_acc=0.3650624491603085,val_acc=0.3668142371688125\n",
      "Epoch 31: train_loss=0.059837522076341854, val_loss=0.059450321647122654,train_acc=0.36648485731054536,val_acc=0.368337327213896\n",
      "Epoch 32: train_loss=0.05937332549575627, val_loss=0.058997054716449705,train_acc=0.3680381799647855,val_acc=0.3699619565953184\n",
      "Epoch 33: train_loss=0.0589262436330599, val_loss=0.0585606286630911,train_acc=0.3695481096092717,val_acc=0.3707675019969403\n",
      "Epoch 34: train_loss=0.05849537870240768, val_loss=0.0581379552536151,train_acc=0.3709771370321829,val_acc=0.37346844834355497\n",
      "Epoch 35: train_loss=0.05807847294855459, val_loss=0.0577280067655042,train_acc=0.37299454424836687,val_acc=0.3747410746923358\n",
      "Epoch 36: train_loss=0.057672859991463016, val_loss=0.05733260366047336,train_acc=0.37476850932508426,val_acc=0.3768057078645601\n",
      "Epoch 37: train_loss=0.0572836775261157, val_loss=0.056951880861060844,train_acc=0.37675649755160456,val_acc=0.3788906489040521\n",
      "Epoch 38: train_loss=0.05690627807122936, val_loss=0.05658352651526977,train_acc=0.37866873187974104,val_acc=0.38150359449250637\n",
      "Epoch 39: train_loss=0.05654312443852155, val_loss=0.05622690707883414,train_acc=0.3806817262474755,val_acc=0.3833245332575173\n",
      "Epoch 40: train_loss=0.05619064089842141, val_loss=0.05588173334548011,train_acc=0.38270133988788424,val_acc=0.38574793875147234\n",
      "Epoch 41: train_loss=0.05584905489140291, val_loss=0.05555106981119276,train_acc=0.385028381970278,val_acc=0.38634363619132717\n",
      "Epoch 42: train_loss=0.05551709784321061, val_loss=0.05522647441387383,train_acc=0.38665819399764356,val_acc=0.3883879614962837\n",
      "Epoch 43: train_loss=0.05519591778844977, val_loss=0.054913143424323685,train_acc=0.38844392667022637,val_acc=0.39115660073379094\n",
      "Epoch 44: train_loss=0.05488395447637998, val_loss=0.054606065302313815,train_acc=0.39045471461373604,val_acc=0.39302492452242666\n",
      "Epoch 45: train_loss=0.05458089233381696, val_loss=0.05431224323912269,train_acc=0.3922286796904534,val_acc=0.39449386025479605\n",
      "Epoch 46: train_loss=0.05428411690335923, val_loss=0.05402144241858931,train_acc=0.3940879598371953,val_acc=0.39617941323802175\n",
      "Epoch 47: train_loss=0.05399708946849814, val_loss=0.053741389788867694,train_acc=0.39576851962173065,val_acc=0.3983591243247634\n",
      "Epoch 48: train_loss=0.05371830793215433, val_loss=0.05346569901003557,train_acc=0.3975917615061346,val_acc=0.40002436944072134\n",
      "Epoch 49: train_loss=0.053446535897688066, val_loss=0.05320317508285433,train_acc=0.3995385631471258,val_acc=0.40149330517309073\n",
      "Epoch 50: train_loss=0.05318238826872534, val_loss=0.052945443148689285,train_acc=0.40125369024451596,val_acc=0.4029690101945494\n",
      "Epoch 51: train_loss=0.05292531794444826, val_loss=0.0526951884264352,train_acc=0.4030033846547608,val_acc=0.4046342553105073\n",
      "Epoch 52: train_loss=0.05267465685589621, val_loss=0.0524493901826003,train_acc=0.40465084807592455,val_acc=0.4059610359720022\n",
      "Epoch 53: train_loss=0.05243168052577649, val_loss=0.05221176478741078,train_acc=0.4062769827295821,val_acc=0.40793089909697683\n",
      "Epoch 54: train_loss=0.05219408710408641, val_loss=0.0519790242339088,train_acc=0.40791488497910516,val_acc=0.4095284513220422\n",
      "Epoch 55: train_loss=0.05196302479865164, val_loss=0.05175418843705349,train_acc=0.40937112496745526,val_acc=0.41148477586883825\n",
      "Epoch 56: train_loss=0.05173867355179356, val_loss=0.05153745927793138,train_acc=0.410982550126281,val_acc=0.4129672501793862\n",
      "Epoch 57: train_loss=0.05152116658471816, val_loss=0.05132290055156785,train_acc=0.4124042228017763,val_acc=0.4144429552008448\n",
      "Epoch 58: train_loss=0.05130762379077903, val_loss=0.05111823800732108,train_acc=0.4138766432344414,val_acc=0.41581712088596456\n",
      "Epoch 59: train_loss=0.051102020980436806, val_loss=0.05091626153272741,train_acc=0.41534465081865696,val_acc=0.41729959519651244\n",
      "Epoch 60: train_loss=0.050902233421886676, val_loss=0.05072136199469179,train_acc=0.4165898095561704,val_acc=0.4188971474215778\n",
      "Epoch 61: train_loss=0.050706543115315486, val_loss=0.050532824169702596,train_acc=0.41788865794982005,val_acc=0.4203051595521438\n",
      "Epoch 62: train_loss=0.0505170214392458, val_loss=0.05034612193316943,train_acc=0.4192662021408199,val_acc=0.421611632346371\n",
      "Epoch 63: train_loss=0.05033321717981227, val_loss=0.05016777873890004,train_acc=0.42052165752471565,val_acc=0.42269471860065255\n",
      "Epoch 64: train_loss=0.05015357613426084, val_loss=0.049991707875035624,train_acc=0.42184404111009616,val_acc=0.4239673449494334\n",
      "Epoch 65: train_loss=0.04997875033569219, val_loss=0.04982311649821621,train_acc=0.42302080069664166,val_acc=0.42500304618009016\n",
      "Epoch 66: train_loss=0.04980830974169973, val_loss=0.04965476230895437,train_acc=0.424179908889389,val_acc=0.426431366177924\n",
      "Epoch 67: train_loss=0.04964318900461679, val_loss=0.04949515659658554,train_acc=0.42547949275778024,val_acc=0.4275618374558304\n",
      "Epoch 68: train_loss=0.049482321649290485, val_loss=0.049340603802237135,train_acc=0.4266518394958762,val_acc=0.42829292067747043\n",
      "Epoch 69: train_loss=0.04932517498936392, val_loss=0.04918648400521196,train_acc=0.42766458821504694,val_acc=0.4296400092062332\n",
      "Epoch 70: train_loss=0.049170923069349476, val_loss=0.04903358346089772,train_acc=0.4287714777011413,val_acc=0.4306486332805329\n",
      "Epoch 71: train_loss=0.04902176188756656, val_loss=0.04889090676311803,train_acc=0.4297952585414359,val_acc=0.43146771726033334\n",
      "Epoch 72: train_loss=0.04887559974400596, val_loss=0.04874710771529114,train_acc=0.4309396572393514,val_acc=0.432266493372866\n",
      "Epoch 73: train_loss=0.04873252855908373, val_loss=0.048609647700066795,train_acc=0.43190312915083556,val_acc=0.4333969646507724\n",
      "Epoch 74: train_loss=0.04859431301024798, val_loss=0.04847583426065923,train_acc=0.43305855996987497,val_acc=0.4342972800996439\n",
      "Epoch 75: train_loss=0.04845945430913918, val_loss=0.04834305810191021,train_acc=0.43395289725564956,val_acc=0.4356375993393174\n",
      "Epoch 76: train_loss=0.048327058719903095, val_loss=0.04821565869074173,train_acc=0.4350325741763051,val_acc=0.4364296061627608\n",
      "Epoch 77: train_loss=0.04819837789239182, val_loss=0.04809055664289781,train_acc=0.4359894268151149,val_acc=0.43729607516618607\n",
      "Epoch 78: train_loss=0.048074449333979426, val_loss=0.047968957727858766,train_acc=0.43694260208021674,val_acc=0.4382302370605039\n",
      "Epoch 79: train_loss=0.04795210230436333, val_loss=0.04784893332158818,train_acc=0.4377928108814959,val_acc=0.43925239971298213\n",
      "Epoch 80: train_loss=0.04783389211144209, val_loss=0.04773569850180182,train_acc=0.43884380428722936,val_acc=0.4398887128873726\n",
      "Epoch 81: train_loss=0.04771814085487052, val_loss=0.04762459980085441,train_acc=0.4396851873916094,val_acc=0.4408770290944045\n",
      "Epoch 82: train_loss=0.047605219360929076, val_loss=0.04751280229860936,train_acc=0.44065895594947585,val_acc=0.4416081123160446\n",
      "Epoch 83: train_loss=0.04749383011072627, val_loss=0.04740559646157245,train_acc=0.44151137117497974,val_acc=0.4427521221721295\n",
      "Epoch 84: train_loss=0.04738603998115847, val_loss=0.04730132448399974,train_acc=0.44244395314731705,val_acc=0.4433884353465199\n",
      "Epoch 85: train_loss=0.04728000772084637, val_loss=0.04719800197206773,train_acc=0.4432831298274723,val_acc=0.44414659572451703\n",
      "Epoch 86: train_loss=0.04717695947136191, val_loss=0.047102501448308305,train_acc=0.444137751477201,val_acc=0.44513491193154897\n",
      "Epoch 87: train_loss=0.047075566614091575, val_loss=0.04700025241938017,train_acc=0.44506444965160563,val_acc=0.44552076140963676\n",
      "Epoch 88: train_loss=0.04697641515641485, val_loss=0.04690464340459723,train_acc=0.44586611711993973,val_acc=0.44645492330395464\n",
      "Epoch 89: train_loss=0.046881084875287825, val_loss=0.04681091885820392,train_acc=0.4467325063655339,val_acc=0.44711831363470206\n",
      "Epoch 90: train_loss=0.04678488055002842, val_loss=0.04671976580622906,train_acc=0.4474782777535071,val_acc=0.4480389369508414\n",
      "Epoch 91: train_loss=0.04669345104618065, val_loss=0.04662882483155051,train_acc=0.44838585358463035,val_acc=0.44848571003073257\n",
      "Epoch 92: train_loss=0.0466020706212092, val_loss=0.04654259805706133,train_acc=0.4492338559616847,val_acc=0.4494401797923182\n",
      "Epoch 93: train_loss=0.0465134020666143, val_loss=0.0464554600881664,train_acc=0.4500090463393216,val_acc=0.45009003154488714\n",
      "Epoch 94: train_loss=0.04642668775218281, val_loss=0.04637216884243241,train_acc=0.4508143911813637,val_acc=0.4508752690792413\n",
      "Epoch 95: train_loss=0.0463410263771685, val_loss=0.04628811041892194,train_acc=0.45162488434659687,val_acc=0.4512137335337043\n",
      "Epoch 96: train_loss=0.046256705542818743, val_loss=0.046206637237311235,train_acc=0.4524375839360549,val_acc=0.4520869718262188\n",
      "Epoch 97: train_loss=0.046173982270320046, val_loss=0.04612869605628264,train_acc=0.453162026556522,val_acc=0.45292636367328704\n",
      "Epoch 98: train_loss=0.04609398682831775, val_loss=0.04604933390258505,train_acc=0.4539960549134861,val_acc=0.45357621542585597\n",
      "Epoch 99: train_loss=0.04601489147662286, val_loss=0.045972140125646724,train_acc=0.45479036763440434,val_acc=0.4541854514438894\n"
     ]
    }
   ],
   "source": [
    "for epoch in range(num_epochs):\n",
    "    net.train()\n",
    "    train_loss = 0.0\n",
    "    total_train = 0\n",
    "    total_val = 0\n",
    "    correct_train = 0\n",
    "    correct_val = 0\n",
    "    for inputs, labels in train_loader:\n",
    "        inputs = inputs.to(device)\n",
    "        labels = labels.to(device).float()\n",
    "        # zero the parameter gradients\n",
    "        optimizer.zero_grad()\n",
    "        # forward + backward + optimize\n",
    "        outputs = net(inputs)\n",
    "        loss = criterion(outputs, labels)\n",
    "        loss.backward()\n",
    "        optimizer.step()\n",
    "        # accumulate the training loss\n",
    "        train_loss += loss.item()\n",
    "        #training accuracy\n",
    "        _,predicted = torch.max(outputs,1)\n",
    "        _,ground_truth = torch.max(labels,1)\n",
    "        total_train += labels.size(0)\n",
    "        correct_train += torch.sum(predicted==ground_truth).item()\n",
    "    # calculate the validation loss\n",
    "    net.eval()\n",
    "    with torch.no_grad():\n",
    "        val_loss = 0.0\n",
    "        for inputs, labels in val_loader:\n",
    "            inputs = inputs.to(device)\n",
    "            labels = labels.to(device).float()\n",
    "            \n",
    "            outputs = net(inputs)\n",
    "            loss = criterion(outputs, labels)\n",
    "            val_loss += loss.item()\n",
    "\n",
    "            #validation accuracy\n",
    "            _,predicted = torch.max(outputs,1)\n",
    "            _,ground_truth = torch.max(labels,1)\n",
    "            total_val += labels.size(0)\n",
    "            correct_val += torch.sum(predicted==ground_truth).item()\n",
    "\n",
    "    # print the epoch loss\n",
    "    train_loss /= len(train_loader)\n",
    "    val_loss /= len(val_loader)\n",
    "\n",
    "    train_acc = correct_train / total_train\n",
    "    val_acc = correct_val / total_val\n",
    "\n",
    "    print(f'Epoch {epoch}: train_loss={train_loss}, val_loss={val_loss},train_acc={train_acc},val_acc={val_acc}')\n",
    "    writer.add_scalars('loss',{'train':train_loss,'val':val_loss},epoch)\n",
    "    writer.add_scalars('accuracy',{'train':train_acc,'val':val_acc},epoch)"
   ]
  },
  {
   "cell_type": "markdown",
   "metadata": {},
   "source": [
    "evaluate on testset"
   ]
  },
  {
   "cell_type": "code",
   "execution_count": 55,
   "metadata": {},
   "outputs": [
    {
     "name": "stderr",
     "output_type": "stream",
     "text": [
      "C:\\Users\\A\\AppData\\Local\\Temp\\ipykernel_17500\\727958253.py:1: UserWarning: To copy construct from a tensor, it is recommended to use sourceTensor.clone().detach() or sourceTensor.clone().detach().requires_grad_(True), rather than torch.tensor(sourceTensor).\n",
      "  test_x = torch.tensor(test_x)\n"
     ]
    },
    {
     "name": "stdout",
     "output_type": "stream",
     "text": [
      "test_loss=0.04603808264264467,test_acc=0.4533638853343846\n"
     ]
    }
   ],
   "source": [
    "test_x = torch.tensor(test_x)\n",
    "test_dataset = torch.utils.data.TensorDataset(test_x, test_y)\n",
    "test_loader = torch.utils.data.DataLoader(test_dataset, batch_size=batch_size, shuffle=False)\n",
    "\n",
    "\n",
    "net.eval()\n",
    "total_test = 0\n",
    "correct_test = 0\n",
    "with torch.no_grad():\n",
    "    test_loss = 0.0\n",
    "    for inputs, labels in test_loader:\n",
    "        inputs = inputs.to(device)\n",
    "        labels = labels.to(device).float()\n",
    "        \n",
    "        outputs = net(inputs)\n",
    "        loss = criterion(outputs, labels)\n",
    "        test_loss += loss.item()\n",
    "\n",
    "        #test accuracy\n",
    "        _,predicted = torch.max(outputs,1)\n",
    "        _,ground_truth = torch.max(labels,1)\n",
    "        total_test += labels.size(0)\n",
    "        correct_test += torch.sum(predicted==ground_truth).item()\n",
    "\n",
    "test_loss /= len(test_loader)\n",
    "test_acc = correct_test / total_test\n",
    "\n",
    "print(f'test_loss={test_loss},test_acc={test_acc}')\n"
   ]
  },
  {
   "cell_type": "markdown",
   "metadata": {},
   "source": [
    "save the trained network"
   ]
  },
  {
   "cell_type": "code",
   "execution_count": 56,
   "metadata": {},
   "outputs": [],
   "source": [
    "torch.save(net.state_dict(), 'exp_2_net_2_epoch_100.pt')"
   ]
  },
  {
   "cell_type": "markdown",
   "metadata": {},
   "source": [
    "# experiments"
   ]
  },
  {
   "attachments": {
    "image.png": {
     "image/png": "[encoded data removed]"
    }
   },
   "cell_type": "markdown",
   "metadata": {},
   "source": [
    "## experiment 1 (faulty mfcc)\n",
    "- ADAM with BCEWithLogitsLoss\n",
    "- loss started at around 0.03 and didnt improve basically at all\n",
    "accuracy was ca 60.3% for both validation and training\n",
    "- test error ca 0.03 and test accuracy ca 60.3%\n",
    "![image.png](attachment:image.png)"
   ]
  },
  {
   "attachments": {
    "image.png": {
     "image/png": "[encoded data removed]"
    }
   },
   "cell_type": "markdown",
   "metadata": {},
   "source": [
    "## experiment 2 (faulty mel)\n",
    "- ADAM with BCEWithLogitsLoss\n",
    "- same results as in faulty experiment 1 more or less\n",
    "![image.png](attachment:image.png)"
   ]
  },
  {
   "attachments": {
    "image.png": {
     "image/png": "[encoded data removed]"
    }
   },
   "cell_type": "markdown",
   "metadata": {},
   "source": [
    "## experiment 3 (correct mel)\n",
    "- fixed accuracy calculation, and lr?\n",
    "- SGD with lr=1e-3\n",
    "- still uses BCEWithLogitsLoss\n",
    "- train_loss=0.046, val_loss=0.0456,train_acc=0.45,val_acc=0.45, test_loss=0.046,test_acc=0.45\n",
    "- exp_2_net_2_epoch_100.pt\n",
    "- cut because the beginning of the training run got bunched in with a previous erroneous one![image.png](attachment:image.png)"
   ]
  },
  {
   "cell_type": "code",
   "execution_count": null,
   "metadata": {},
   "outputs": [],
   "source": []
  }
 ],
 "metadata": {
  "kernelspec": {
   "display_name": "dt2119",
   "language": "python",
   "name": "python3"
  },
  "language_info": {
   "codemirror_mode": {
    "name": "ipython",
    "version": 3
   },
   "file_extension": ".py",
   "mimetype": "text/x-python",
   "name": "python",
   "nbconvert_exporter": "python",
   "pygments_lexer": "ipython3",
   "version": "3.10.4"
  }
 },
 "nbformat": 4,
 "nbformat_minor": 2
}
