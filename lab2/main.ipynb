{
 "cells": [
  {
   "cell_type": "code",
   "execution_count": 1,
   "metadata": {},
   "outputs": [],
   "source": [
    "import numpy as np\n",
    "data = np.load('lab2_data.npz', allow_pickle=True)['data']"
   ]
  },
  {
   "cell_type": "code",
   "execution_count": 2,
   "metadata": {},
   "outputs": [],
   "source": [
    "phoneHMMs = np.load('lab2_models_onespkr.npz', allow_pickle=True)['phoneHMMs'].item()\n",
    "#phoneHMMs = np.load('lab2_models_all.npz', allow_pickle=True)['phoneHMMs'].item()"
   ]
  },
  {
   "cell_type": "code",
   "execution_count": 3,
   "metadata": {},
   "outputs": [
    {
     "data": {
      "text/plain": [
       "{'name': 'f',\n",
       " 'startprob': array([1., 0., 0., 0.]),\n",
       " 'transmat': array([[0.8437548, 0.1562452, 0.       , 0.       ],\n",
       "        [0.       , 0.7090222, 0.2909778, 0.       ],\n",
       "        [0.       , 0.       , 0.3064214, 0.6935785],\n",
       "        [0.       , 0.       , 0.       , 1.       ]]),\n",
       " 'means': array([[ 3.223918e+02, -2.714506e+02, -1.279559e+02,  4.936052e+01,\n",
       "         -1.980236e+00, -9.977302e+00, -2.686330e+01, -4.009798e+01,\n",
       "          3.357593e-01, -7.339875e+01,  2.645822e+01, -6.140060e+01,\n",
       "          3.153127e+01],\n",
       "        [ 4.886330e+02, -2.018883e+02, -1.998543e+02, -3.249403e+00,\n",
       "         -1.454704e+01, -1.020947e+01, -5.742544e+01, -1.035629e+02,\n",
       "         -2.134682e+01, -9.308153e+01,  2.632338e+01, -8.978764e+01,\n",
       "          2.653858e+01],\n",
       "        [ 5.815154e+02,  2.457827e+02,  2.437778e+01, -5.956849e+01,\n",
       "         -1.490782e+02,  6.251358e+01, -1.867431e+01, -4.977795e+01,\n",
       "          7.758113e+00,  1.062016e+02,  1.829358e+01,  2.677407e+01,\n",
       "          1.664870e+01]]),\n",
       " 'covars': array([[14393.75 ,  7297.19 ,  6038.205,  4883.02 ,  5352.986,  6555.408,\n",
       "          8515.243, 10671.1  , 10332.08 , 10120.83 ,  8832.828, 10312.58 ,\n",
       "          8047.129],\n",
       "        [ 5798.724,  8801.242,  6390.72 ,  4633.797,  6440.55 ,  9419.42 ,\n",
       "          5861.454,  7522.581, 10917.65 ,  7469.309,  9418.893,  6266.922,\n",
       "          7712.29 ],\n",
       "        [13902.99 , 10563.13 ,  4930.186, 19097.51 , 14233.63 ,  5392.508,\n",
       "          4200.502,  4250.925,  8332.633, 24471.45 ,  4684.705,  6569.889,\n",
       "          4883.375]])}"
      ]
     },
     "execution_count": 3,
     "metadata": {},
     "output_type": "execute_result"
    }
   ],
   "source": [
    "phoneHMMs[\"f\"]"
   ]
  },
  {
   "cell_type": "code",
   "execution_count": 4,
   "metadata": {},
   "outputs": [
    {
     "data": {
      "text/plain": [
       "['ah',\n",
       " 'ao',\n",
       " 'ay',\n",
       " 'eh',\n",
       " 'ey',\n",
       " 'f',\n",
       " 'ih',\n",
       " 'iy',\n",
       " 'k',\n",
       " 'n',\n",
       " 'ow',\n",
       " 'r',\n",
       " 's',\n",
       " 'sil',\n",
       " 'sp',\n",
       " 't',\n",
       " 'th',\n",
       " 'uw',\n",
       " 'v',\n",
       " 'w',\n",
       " 'z']"
      ]
     },
     "execution_count": 4,
     "metadata": {},
     "output_type": "execute_result"
    }
   ],
   "source": [
    "list(sorted(phoneHMMs.keys()))"
   ]
  },
  {
   "cell_type": "code",
   "execution_count": 5,
   "metadata": {},
   "outputs": [
    {
     "data": {
      "text/html": [
       "<div>\n",
       "<style scoped>\n",
       "    .dataframe tbody tr th:only-of-type {\n",
       "        vertical-align: middle;\n",
       "    }\n",
       "\n",
       "    .dataframe tbody tr th {\n",
       "        vertical-align: top;\n",
       "    }\n",
       "\n",
       "    .dataframe thead th {\n",
       "        text-align: right;\n",
       "    }\n",
       "</style>\n",
       "<table border=\"1\" class=\"dataframe\">\n",
       "  <thead>\n",
       "    <tr style=\"text-align: right;\">\n",
       "      <th></th>\n",
       "      <th>0</th>\n",
       "      <th>1</th>\n",
       "      <th>2</th>\n",
       "      <th>3</th>\n",
       "      <th>4</th>\n",
       "      <th>5</th>\n",
       "      <th>6</th>\n",
       "      <th>7</th>\n",
       "      <th>8</th>\n",
       "      <th>9</th>\n",
       "      <th>10</th>\n",
       "      <th>11</th>\n",
       "      <th>12</th>\n",
       "    </tr>\n",
       "  </thead>\n",
       "  <tbody>\n",
       "    <tr>\n",
       "      <th>0</th>\n",
       "      <td>14393.750</td>\n",
       "      <td>7297.190</td>\n",
       "      <td>6038.205</td>\n",
       "      <td>4883.020</td>\n",
       "      <td>5352.986</td>\n",
       "      <td>6555.408</td>\n",
       "      <td>8515.243</td>\n",
       "      <td>10671.100</td>\n",
       "      <td>10332.080</td>\n",
       "      <td>10120.830</td>\n",
       "      <td>8832.828</td>\n",
       "      <td>10312.580</td>\n",
       "      <td>8047.129</td>\n",
       "    </tr>\n",
       "    <tr>\n",
       "      <th>1</th>\n",
       "      <td>5798.724</td>\n",
       "      <td>8801.242</td>\n",
       "      <td>6390.720</td>\n",
       "      <td>4633.797</td>\n",
       "      <td>6440.550</td>\n",
       "      <td>9419.420</td>\n",
       "      <td>5861.454</td>\n",
       "      <td>7522.581</td>\n",
       "      <td>10917.650</td>\n",
       "      <td>7469.309</td>\n",
       "      <td>9418.893</td>\n",
       "      <td>6266.922</td>\n",
       "      <td>7712.290</td>\n",
       "    </tr>\n",
       "    <tr>\n",
       "      <th>2</th>\n",
       "      <td>13902.990</td>\n",
       "      <td>10563.130</td>\n",
       "      <td>4930.186</td>\n",
       "      <td>19097.510</td>\n",
       "      <td>14233.630</td>\n",
       "      <td>5392.508</td>\n",
       "      <td>4200.502</td>\n",
       "      <td>4250.925</td>\n",
       "      <td>8332.633</td>\n",
       "      <td>24471.450</td>\n",
       "      <td>4684.705</td>\n",
       "      <td>6569.889</td>\n",
       "      <td>4883.375</td>\n",
       "    </tr>\n",
       "  </tbody>\n",
       "</table>\n",
       "</div>"
      ],
      "text/plain": [
       "          0          1         2          3          4         5         6   \\\n",
       "0  14393.750   7297.190  6038.205   4883.020   5352.986  6555.408  8515.243   \n",
       "1   5798.724   8801.242  6390.720   4633.797   6440.550  9419.420  5861.454   \n",
       "2  13902.990  10563.130  4930.186  19097.510  14233.630  5392.508  4200.502   \n",
       "\n",
       "          7          8          9         10         11        12  \n",
       "0  10671.100  10332.080  10120.830  8832.828  10312.580  8047.129  \n",
       "1   7522.581  10917.650   7469.309  9418.893   6266.922  7712.290  \n",
       "2   4250.925   8332.633  24471.450  4684.705   6569.889  4883.375  "
      ]
     },
     "execution_count": 5,
     "metadata": {},
     "output_type": "execute_result"
    }
   ],
   "source": [
    "import pandas as pd\n",
    "# Convert to DataFrame\n",
    "df = pd.DataFrame(phoneHMMs[\"f\"][\"covars\"])\n",
    "df"
   ]
  },
  {
   "cell_type": "code",
   "execution_count": 6,
   "metadata": {},
   "outputs": [
    {
     "data": {
      "text/html": [
       "<div>\n",
       "<style scoped>\n",
       "    .dataframe tbody tr th:only-of-type {\n",
       "        vertical-align: middle;\n",
       "    }\n",
       "\n",
       "    .dataframe tbody tr th {\n",
       "        vertical-align: top;\n",
       "    }\n",
       "\n",
       "    .dataframe thead th {\n",
       "        text-align: right;\n",
       "    }\n",
       "</style>\n",
       "<table border=\"1\" class=\"dataframe\">\n",
       "  <thead>\n",
       "    <tr style=\"text-align: right;\">\n",
       "      <th></th>\n",
       "      <th>0</th>\n",
       "      <th>1</th>\n",
       "      <th>2</th>\n",
       "      <th>3</th>\n",
       "      <th>4</th>\n",
       "      <th>5</th>\n",
       "      <th>6</th>\n",
       "      <th>7</th>\n",
       "      <th>8</th>\n",
       "      <th>9</th>\n",
       "      <th>10</th>\n",
       "      <th>11</th>\n",
       "      <th>12</th>\n",
       "    </tr>\n",
       "  </thead>\n",
       "  <tbody>\n",
       "    <tr>\n",
       "      <th>0</th>\n",
       "      <td>322.3918</td>\n",
       "      <td>-271.4506</td>\n",
       "      <td>-127.95590</td>\n",
       "      <td>49.360520</td>\n",
       "      <td>-1.980236</td>\n",
       "      <td>-9.977302</td>\n",
       "      <td>-26.86330</td>\n",
       "      <td>-40.09798</td>\n",
       "      <td>0.335759</td>\n",
       "      <td>-73.39875</td>\n",
       "      <td>26.45822</td>\n",
       "      <td>-61.40060</td>\n",
       "      <td>31.53127</td>\n",
       "    </tr>\n",
       "    <tr>\n",
       "      <th>1</th>\n",
       "      <td>488.6330</td>\n",
       "      <td>-201.8883</td>\n",
       "      <td>-199.85430</td>\n",
       "      <td>-3.249403</td>\n",
       "      <td>-14.547040</td>\n",
       "      <td>-10.209470</td>\n",
       "      <td>-57.42544</td>\n",
       "      <td>-103.56290</td>\n",
       "      <td>-21.346820</td>\n",
       "      <td>-93.08153</td>\n",
       "      <td>26.32338</td>\n",
       "      <td>-89.78764</td>\n",
       "      <td>26.53858</td>\n",
       "    </tr>\n",
       "    <tr>\n",
       "      <th>2</th>\n",
       "      <td>581.5154</td>\n",
       "      <td>245.7827</td>\n",
       "      <td>24.37778</td>\n",
       "      <td>-59.568490</td>\n",
       "      <td>-149.078200</td>\n",
       "      <td>62.513580</td>\n",
       "      <td>-18.67431</td>\n",
       "      <td>-49.77795</td>\n",
       "      <td>7.758113</td>\n",
       "      <td>106.20160</td>\n",
       "      <td>18.29358</td>\n",
       "      <td>26.77407</td>\n",
       "      <td>16.64870</td>\n",
       "    </tr>\n",
       "  </tbody>\n",
       "</table>\n",
       "</div>"
      ],
      "text/plain": [
       "         0         1          2          3           4          5         6   \\\n",
       "0  322.3918 -271.4506 -127.95590  49.360520   -1.980236  -9.977302 -26.86330   \n",
       "1  488.6330 -201.8883 -199.85430  -3.249403  -14.547040 -10.209470 -57.42544   \n",
       "2  581.5154  245.7827   24.37778 -59.568490 -149.078200  62.513580 -18.67431   \n",
       "\n",
       "          7          8          9         10        11        12  \n",
       "0  -40.09798   0.335759  -73.39875  26.45822 -61.40060  31.53127  \n",
       "1 -103.56290 -21.346820  -93.08153  26.32338 -89.78764  26.53858  \n",
       "2  -49.77795   7.758113  106.20160  18.29358  26.77407  16.64870  "
      ]
     },
     "execution_count": 6,
     "metadata": {},
     "output_type": "execute_result"
    }
   ],
   "source": [
    "pd.DataFrame(phoneHMMs[\"f\"][\"means\"])"
   ]
  },
  {
   "cell_type": "code",
   "execution_count": 7,
   "metadata": {},
   "outputs": [],
   "source": [
    "prondict = {} \n",
    "prondict['o'] = ['ow']\n",
    "prondict['z'] = ['z', 'iy', 'r', 'ow']\n",
    "prondict['1'] = ['w', 'ah', 'n']\n",
    "prondict['2'] = ['t', 'uw']\n",
    "prondict['3'] = ['th', 'r', 'iy']\n",
    "prondict['4'] = ['f', 'ao', 'r']\n",
    "prondict['5'] = ['f', 'ay', 'v']\n",
    "prondict['6'] = ['s', 'ih', 'k', 's']\n",
    "prondict['7'] = ['s', 'eh', 'v', 'ah', 'n']\n",
    "prondict['8'] = ['ey', 't']\n",
    "prondict['9'] = ['n', 'ay', 'n']\n",
    "isolated = {}\n",
    "for digit in prondict.keys():\n",
    "    isolated[digit] = ['sil'] + prondict[digit] + ['sil']"
   ]
  },
  {
   "cell_type": "code",
   "execution_count": 8,
   "metadata": {},
   "outputs": [],
   "source": [
    "def concatTwoHMMs1(hmm1, hmm2):\n",
    "   #startprob\n",
    "   M1 = len(hmm1[\"startprob\"])\n",
    "   M2 = len(hmm2[\"startprob\"])\n",
    "   startprob_conc = np.zeros((M1+M2-1))\n",
    "   for i in range(M1+M2-1):\n",
    "      if i<M1-1:\n",
    "         startprob_conc[i]=hmm1[\"startprob\"][i]\n",
    "      else:\n",
    "         startprob_conc[i]=hmm1[\"startprob\"][-1]*hmm2[\"startprob\"][i-M2]\n",
    "concatTwoHMMs1(phoneHMMs[\"sil\"],phoneHMMs[\"sil\"])\n"
   ]
  },
  {
   "cell_type": "markdown",
   "metadata": {},
   "source": [
    "# 4"
   ]
  },
  {
   "cell_type": "code",
   "execution_count": 9,
   "metadata": {},
   "outputs": [],
   "source": [
    "from lab2_proto import concatHMMs\n",
    "wordHMMs = {}\n",
    "wordHMMs['o'] = concatHMMs(phoneHMMs, isolated['o'])"
   ]
  },
  {
   "cell_type": "markdown",
   "metadata": {},
   "source": [
    "# 5"
   ]
  },
  {
   "cell_type": "markdown",
   "metadata": {},
   "source": [
    "### 5.1"
   ]
  },
  {
   "cell_type": "code",
   "execution_count": 10,
   "metadata": {},
   "outputs": [],
   "source": [
    "example = np.load('lab2_example.npz', allow_pickle=True)['example'].item()"
   ]
  },
  {
   "cell_type": "code",
   "execution_count": 11,
   "metadata": {},
   "outputs": [
    {
     "data": {
      "text/plain": [
       "['filename',\n",
       " 'samplingrate',\n",
       " 'gender',\n",
       " 'speaker',\n",
       " 'digit',\n",
       " 'repetition',\n",
       " 'samples',\n",
       " 'lmfcc',\n",
       " 'obsloglik',\n",
       " 'logalpha',\n",
       " 'loglik',\n",
       " 'vloglik',\n",
       " 'vpath',\n",
       " 'logbeta',\n",
       " 'loggamma']"
      ]
     },
     "execution_count": 11,
     "metadata": {},
     "output_type": "execute_result"
    }
   ],
   "source": [
    "list(example.keys())"
   ]
  },
  {
   "cell_type": "code",
   "execution_count": 12,
   "metadata": {},
   "outputs": [],
   "source": [
    "from lab2_tools import log_multivariate_normal_density_diag"
   ]
  },
  {
   "cell_type": "code",
   "execution_count": 13,
   "metadata": {},
   "outputs": [
    {
     "data": {
      "text/plain": [
       "True"
      ]
     },
     "execution_count": 13,
     "metadata": {},
     "output_type": "execute_result"
    }
   ],
   "source": [
    "X0 = example['lmfcc'] #71 \"frames\" of size 13, one datapoint\n",
    "obsloglik=log_multivariate_normal_density_diag(X0,wordHMMs['o'][\"means\"],wordHMMs['o'][\"covars\"])\n",
    "np.allclose(obsloglik,example['obsloglik'])"
   ]
  },
  {
   "cell_type": "code",
   "execution_count": 14,
   "metadata": {},
   "outputs": [],
   "source": [
    "import matplotlib.pyplot as plt\n",
    "\n",
    "def plot(data,xlabel=\"\",ylabel=\"\",title=\"Overlapping Windows Visualization\"):\n",
    "    plt.figure(figsize=(8, 6))\n",
    "    plt.pcolormesh(data, cmap='viridis')\n",
    "    plt.colorbar(label='Value')\n",
    "    #plt.xlim(0,400)\n",
    "    plt.xlabel(xlabel)\n",
    "    plt.ylabel(ylabel)\n",
    "    plt.title(title)\n",
    "    plt.show()\n"
   ]
  },
  {
   "cell_type": "code",
   "execution_count": 22,
   "metadata": {},
   "outputs": [
    {
     "data": {
      "text/plain": [
       "{'filename': '/home/giampi/corpora/tidigits/disc_4.2.1/tidigits/test/man/bm/4a.wav',\n",
       " 'samplingrate': 20000,\n",
       " 'gender': 'man',\n",
       " 'speaker': 'bm',\n",
       " 'digit': '4',\n",
       " 'repetition': 'a',\n",
       " 'samples': array([ 6,  6,  5, ..., -2, -2, -1], dtype=int16),\n",
       " 'lmfcc': array([[ 1.01318727e+02, -7.14466163e+01,  3.09994165e+01, ...,\n",
       "         -3.45512450e+01, -4.55661048e+01, -1.91574592e+00],\n",
       "        [ 7.87194300e+01, -4.72433682e+01,  3.71363380e+01, ...,\n",
       "         -1.11627272e+02,  8.52729431e+01, -8.87404878e+01],\n",
       "        [ 8.44890401e+01, -4.65104968e+01,  4.33241770e+01, ...,\n",
       "         -7.01323819e+01,  1.74398854e+02,  2.36177739e+02],\n",
       "        ...,\n",
       "        [ 1.08892440e+02, -4.61340099e+01,  9.49784587e+01, ...,\n",
       "         -3.69189720e+01, -6.29931692e+01,  4.61959055e-02],\n",
       "        [ 1.02464943e+02, -4.12118207e+01,  1.24534572e+02, ...,\n",
       "         -4.78639955e+01,  3.59484658e+00, -1.44153421e+02],\n",
       "        [ 9.24232655e+01, -5.49259083e+01,  1.49216576e+02, ...,\n",
       "          1.48486385e+02,  1.45836343e+01, -8.64891696e+01]])}"
      ]
     },
     "execution_count": 22,
     "metadata": {},
     "output_type": "execute_result"
    }
   ],
   "source": [
    "data[10]"
   ]
  },
  {
   "cell_type": "code",
   "execution_count": 23,
   "metadata": {},
   "outputs": [
    {
     "data": {
      "image/png": "[encoded data removed]",
      "text/plain": [
       "<Figure size 800x600 with 2 Axes>"
      ]
     },
     "metadata": {},
     "output_type": "display_data"
    }
   ],
   "source": [
    "X1 = data[10][\"lmfcc\"]\n",
    "log_likelihoods=log_multivariate_normal_density_diag(X1,wordHMMs['o'][\"means\"],wordHMMs['o'][\"covars\"])\n",
    "plot(log_likelihoods.T,title=\"HMM log likelihood of 'o' for wordHmms['o']\")"
   ]
  },
  {
   "cell_type": "markdown",
   "metadata": {},
   "source": [
    "### 5.2"
   ]
  },
  {
   "cell_type": "code",
   "execution_count": null,
   "metadata": {},
   "outputs": [],
   "source": [
    "from lab2_tools import logsumexp\n",
    "def forward(log_emlik, log_startprob, log_transmat):\n",
    "    \"\"\"Forward (alpha) probabilities in log domain.\n",
    "\n",
    "    Args:\n",
    "        log_emlik: NxM array of emission log likelihoods, N frames, M states\n",
    "        log_startprob: log probability to start in state i\n",
    "        log_transmat: log transition probability from state i to j\n",
    "\n",
    "    Output:\n",
    "        forward_prob: NxM array of forward log probabilities for each of the M states in the model\n",
    "    \"\"\"\n",
    "    #j enumerates states\n",
    "    N,M = log_emlik.shape()\n",
    "\n",
    "    alpha = np.zeros(N,M)\n",
    "\n",
    "    #first row of alpha\n",
    "    for j in range(M):\n",
    "        alpha[0,j] = log_startprob[j]+log_emlik[0,j]\n",
    "        #log_emlik[i,j]=log phi_j(x_i)\n",
    "        #we want log phi_j(x_o) => log_emlik[0,j]\n",
    "    #all other rows\n",
    "    for n in range(1,N):\n",
    "        for j in range(1,M):\n",
    "            alpha[n,j]=logsumexp(alpha[n-1,:]+log_transmat[i,j])+log_emlik[n,j]\n",
    "    return alpha"
   ]
  },
  {
   "cell_type": "code",
   "execution_count": 1,
   "metadata": {},
   "outputs": [
    {
     "data": {
      "text/plain": [
       "[1, 2, 3]"
      ]
     },
     "execution_count": 1,
     "metadata": {},
     "output_type": "execute_result"
    }
   ],
   "source": [
    "x = [1,2,3,4]\n",
    "x[:-1]"
   ]
  }
 ],
 "metadata": {
  "kernelspec": {
   "display_name": "Python 3",
   "language": "python",
   "name": "python3"
  },
  "language_info": {
   "codemirror_mode": {
    "name": "ipython",
    "version": 3
   },
   "file_extension": ".py",
   "mimetype": "text/x-python",
   "name": "python",
   "nbconvert_exporter": "python",
   "pygments_lexer": "ipython3",
   "version": "3.11.4"
  }
 },
 "nbformat": 4,
 "nbformat_minor": 2
}
